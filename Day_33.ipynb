{
 "cells": [
  {
   "cell_type": "markdown",
   "id": "9528622f",
   "metadata": {},
   "source": [
    "# Assignment on Breakup"
   ]
  },
  {
   "cell_type": "markdown",
   "id": "666ea4d3",
   "metadata": {},
   "source": [
    "### Problem 1: Write a Python functions that takes a list of numbers as input and returns the sum of all elements in the list  \n",
    "### input_numbers =[1,2,3,4,5]\n",
    "### sum : 15 [] def list_sum (input_numbers):"
   ]
  },
  {
   "cell_type": "code",
   "execution_count": 107,
   "id": "9fcf7d39",
   "metadata": {},
   "outputs": [],
   "source": [
    "def list_sum(input_numbers):\n",
    "    add=0\n",
    "    for i in input_numbers:\n",
    "        add=add+i\n",
    "    return add\n",
    "        "
   ]
  },
  {
   "cell_type": "code",
   "execution_count": 108,
   "id": "f14233ee",
   "metadata": {},
   "outputs": [
    {
     "name": "stdout",
     "output_type": "stream",
     "text": [
      "15\n"
     ]
    }
   ],
   "source": [
    "input_numbers=[1,2,3,4,5]\n",
    "print(list_sum(input_numbers))"
   ]
  },
  {
   "cell_type": "markdown",
   "id": "ff4fa324",
   "metadata": {},
   "source": [
    "### Problem 2: List reversal\n",
    "### Ceate a function that reverse a given list and return the reversed list \n",
    "###  Orginal_list=[10,20,30,40,50]\n",
    "### Reversed_list=[50,40,30,20,10]"
   ]
  },
  {
   "cell_type": "code",
   "execution_count": 109,
   "id": "e96ed1af",
   "metadata": {},
   "outputs": [],
   "source": [
    "def reversed_list(orginal_list):\n",
    "    x=orginal_list.index(orginal_list[-1])\n",
    "    print(x)\n",
    "    revers=[]\n",
    "    for i in range(x,-1,-1):\n",
    "        revers.append(orginal_list[i])\n",
    "        print(revers,i)\n",
    "    return (revers)"
   ]
  },
  {
   "cell_type": "code",
   "execution_count": 110,
   "id": "730c74bd",
   "metadata": {},
   "outputs": [],
   "source": [
    "orginal_list=[10,20,30,40,50]"
   ]
  },
  {
   "cell_type": "code",
   "execution_count": 111,
   "id": "60a492b3",
   "metadata": {},
   "outputs": [
    {
     "name": "stdout",
     "output_type": "stream",
     "text": [
      "4\n",
      "[50] 4\n",
      "[50, 40] 3\n",
      "[50, 40, 30] 2\n",
      "[50, 40, 30, 20] 1\n",
      "[50, 40, 30, 20, 10] 0\n",
      "[50, 40, 30, 20, 10]\n"
     ]
    }
   ],
   "source": [
    "print(reversed_list(orginal_list))"
   ]
  },
  {
   "cell_type": "code",
   "execution_count": 8,
   "id": "7233f1c2",
   "metadata": {},
   "outputs": [],
   "source": [
    "def reversed_list(orginal_list):\n",
    "    x=len(orginal_list)\n",
    "    print(x)\n",
    "    revers=[]\n",
    "    for i in range(x-1,-1,-1):\n",
    "        revers.append(orginal_list[i])\n",
    "        print(revers,i)\n",
    "    return (revers)"
   ]
  },
  {
   "cell_type": "code",
   "execution_count": 9,
   "id": "fa2715fe",
   "metadata": {},
   "outputs": [
    {
     "name": "stdout",
     "output_type": "stream",
     "text": [
      "5\n",
      "[50] 4\n",
      "[50, 40] 3\n",
      "[50, 40, 30] 2\n",
      "[50, 40, 30, 20] 1\n",
      "[50, 40, 30, 20, 10] 0\n"
     ]
    },
    {
     "data": {
      "text/plain": [
       "[50, 40, 30, 20, 10]"
      ]
     },
     "execution_count": 9,
     "metadata": {},
     "output_type": "execute_result"
    }
   ],
   "source": [
    "orginal_list=[10,20,30,40,50]\n",
    "reversed_list(orginal_list)"
   ]
  },
  {
   "cell_type": "markdown",
   "id": "ebeb1575",
   "metadata": {},
   "source": [
    "### Problem 3: List Even numbers\n",
    "### Write a function that takes  a list of integers as input and return a new list  containing only\n",
    "### the even numbers.\n",
    "### numbers=[1,2,3,4,5,6.7,8,9,10]\n",
    "### Even_Numbers=[2,4,,6,8,10]"
   ]
  },
  {
   "cell_type": "code",
   "execution_count": 112,
   "id": "01d64873",
   "metadata": {},
   "outputs": [],
   "source": [
    "def even_num(numbers):\n",
    "    even_numbers=[]\n",
    "    for x in numbers:\n",
    "        if x%2==0:\n",
    "            even_numbers.append(x)\n",
    "    return even_numbers"
   ]
  },
  {
   "cell_type": "code",
   "execution_count": 113,
   "id": "7904950b",
   "metadata": {},
   "outputs": [],
   "source": [
    "numbers=[1,2,3,4,5,6,7,8,9,10]"
   ]
  },
  {
   "cell_type": "code",
   "execution_count": 114,
   "id": "fd07634a",
   "metadata": {},
   "outputs": [
    {
     "name": "stdout",
     "output_type": "stream",
     "text": [
      "[2, 4, 6, 8, 10]\n"
     ]
    }
   ],
   "source": [
    "print(even_num(numbers))"
   ]
  },
  {
   "cell_type": "markdown",
   "id": "c6d0079a",
   "metadata": {},
   "source": [
    "### Problem 4: LIst Duplicates\n",
    "### Create a function that finds and returns a list of unique elements from a given list.\n",
    "### elements=[1,2,2,3,4,4,5]\n",
    "### unique_elements=[1,2,3,4,5]"
   ]
  },
  {
   "cell_type": "code",
   "execution_count": 115,
   "id": "c143bc41",
   "metadata": {},
   "outputs": [],
   "source": [
    "def duplicate (elements):\n",
    "    unique_elements=[]\n",
    "    for x in elements:\n",
    "        if x  not in unique_elements:\n",
    "            unique_elements.append(x)\n",
    "    return unique_elements"
   ]
  },
  {
   "cell_type": "code",
   "execution_count": 116,
   "id": "78c86037",
   "metadata": {},
   "outputs": [],
   "source": [
    "elements=[1,2,2,3,4,4,5]"
   ]
  },
  {
   "cell_type": "code",
   "execution_count": 117,
   "id": "cbddad92",
   "metadata": {},
   "outputs": [
    {
     "name": "stdout",
     "output_type": "stream",
     "text": [
      "[1, 2, 3, 4, 5]\n"
     ]
    }
   ],
   "source": [
    "print(duplicate(elements))"
   ]
  },
  {
   "cell_type": "markdown",
   "id": "5741f6b2",
   "metadata": {},
   "source": [
    "### Problem 5: List concatenation\n",
    "### Write a function that takes two lists as input and returns a new list that is the concatenation of th two input lists.\n",
    "### list1=[1,2,3]\n",
    "### lsit2=[4,5,6]"
   ]
  },
  {
   "cell_type": "code",
   "execution_count": 118,
   "id": "44ecc526",
   "metadata": {},
   "outputs": [],
   "source": [
    "def concated_list(list1,list2):\n",
    "    return list1+list2"
   ]
  },
  {
   "cell_type": "code",
   "execution_count": 119,
   "id": "40fab117",
   "metadata": {},
   "outputs": [],
   "source": [
    "list1=[1,2,3]\n",
    "list2=[4,5,6]"
   ]
  },
  {
   "cell_type": "code",
   "execution_count": 120,
   "id": "aa6d9ecb",
   "metadata": {},
   "outputs": [
    {
     "name": "stdout",
     "output_type": "stream",
     "text": [
      "[1, 2, 3, 4, 5, 6]\n"
     ]
    }
   ],
   "source": [
    "print(concated_list(list1,list2))"
   ]
  },
  {
   "cell_type": "code",
   "execution_count": null,
   "id": "5dd8b226",
   "metadata": {},
   "outputs": [],
   "source": []
  }
 ],
 "metadata": {
  "kernelspec": {
   "display_name": "Python 3 (ipykernel)",
   "language": "python",
   "name": "python3"
  },
  "language_info": {
   "codemirror_mode": {
    "name": "ipython",
    "version": 3
   },
   "file_extension": ".py",
   "mimetype": "text/x-python",
   "name": "python",
   "nbconvert_exporter": "python",
   "pygments_lexer": "ipython3",
   "version": "3.11.5"
  }
 },
 "nbformat": 4,
 "nbformat_minor": 5
}
