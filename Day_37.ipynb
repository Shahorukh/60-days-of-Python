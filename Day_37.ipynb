{
 "cells": [
  {
   "cell_type": "markdown",
   "id": "228be2c9",
   "metadata": {},
   "source": [
    "# Lambda function"
   ]
  },
  {
   "cell_type": "markdown",
   "id": "d3f95318",
   "metadata": {},
   "source": [
    "## lambda arguments:expression"
   ]
  },
  {
   "cell_type": "code",
   "execution_count": 1,
   "id": "9b4b4213",
   "metadata": {},
   "outputs": [],
   "source": [
    "def sums(x,y):\n",
    "    return x+y"
   ]
  },
  {
   "cell_type": "code",
   "execution_count": 2,
   "id": "23b5cebf",
   "metadata": {},
   "outputs": [
    {
     "data": {
      "text/plain": [
       "9"
      ]
     },
     "execution_count": 2,
     "metadata": {},
     "output_type": "execute_result"
    }
   ],
   "source": [
    "sums(4,5)"
   ]
  },
  {
   "cell_type": "code",
   "execution_count": 3,
   "id": "84cf2f07",
   "metadata": {},
   "outputs": [
    {
     "data": {
      "text/plain": [
       "9"
      ]
     },
     "execution_count": 3,
     "metadata": {},
     "output_type": "execute_result"
    }
   ],
   "source": [
    "f=lambda x,y:x+y\n",
    "f(4,5)"
   ]
  },
  {
   "cell_type": "code",
   "execution_count": 4,
   "id": "3f053d05",
   "metadata": {},
   "outputs": [
    {
     "data": {
      "text/plain": [
       "20"
      ]
     },
     "execution_count": 4,
     "metadata": {},
     "output_type": "execute_result"
    }
   ],
   "source": [
    "f=lambda x,y:x*y\n",
    "f(4,5)"
   ]
  },
  {
   "cell_type": "code",
   "execution_count": 5,
   "id": "88e5dcee",
   "metadata": {},
   "outputs": [
    {
     "data": {
      "text/plain": [
       "8"
      ]
     },
     "execution_count": 5,
     "metadata": {},
     "output_type": "execute_result"
    }
   ],
   "source": [
    "f=lambda x:x+x\n",
    "f(4)"
   ]
  },
  {
   "cell_type": "markdown",
   "id": "6c48cf0b",
   "metadata": {},
   "source": [
    "## Lambda in higher order"
   ]
  },
  {
   "cell_type": "code",
   "execution_count": 6,
   "id": "1004b8f1",
   "metadata": {},
   "outputs": [
    {
     "data": {
      "text/plain": [
       "9"
      ]
     },
     "execution_count": 6,
     "metadata": {},
     "output_type": "execute_result"
    }
   ],
   "source": [
    "def operation_higher(x,y,operation):\n",
    "    return operation(x,y)\n",
    "operation_higher(4,5,lambda x,y:x+y)"
   ]
  },
  {
   "cell_type": "code",
   "execution_count": null,
   "id": "ffb2a595",
   "metadata": {},
   "outputs": [],
   "source": []
  }
 ],
 "metadata": {
  "kernelspec": {
   "display_name": "Python 3 (ipykernel)",
   "language": "python",
   "name": "python3"
  },
  "language_info": {
   "codemirror_mode": {
    "name": "ipython",
    "version": 3
   },
   "file_extension": ".py",
   "mimetype": "text/x-python",
   "name": "python",
   "nbconvert_exporter": "python",
   "pygments_lexer": "ipython3",
   "version": "3.11.5"
  }
 },
 "nbformat": 4,
 "nbformat_minor": 5
}
