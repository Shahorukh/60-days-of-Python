{
 "cells": [
  {
   "cell_type": "markdown",
   "id": "8217d481",
   "metadata": {},
   "source": [
    "# More about return in python (part-02)"
   ]
  },
  {
   "cell_type": "code",
   "execution_count": 1,
   "id": "890d4c6b",
   "metadata": {},
   "outputs": [],
   "source": [
    "def mulp():\n",
    "    x=int(input('x='))\n",
    "    y=int(input('y= '))\n",
    "    result=x*y\n",
    "    print(result)"
   ]
  },
  {
   "cell_type": "code",
   "execution_count": 2,
   "id": "797c1e1e",
   "metadata": {},
   "outputs": [
    {
     "name": "stdout",
     "output_type": "stream",
     "text": [
      "x=10\n",
      "y= 20\n",
      "200\n"
     ]
    }
   ],
   "source": [
    "mulp()"
   ]
  },
  {
   "cell_type": "code",
   "execution_count": 7,
   "id": "65746042",
   "metadata": {},
   "outputs": [],
   "source": [
    "def mulp1():\n",
    "    x=int(input('x= '))\n",
    "    y=int(input('y= '))\n",
    "    result=x*y\n",
    "    print(result)\n",
    "    return result"
   ]
  },
  {
   "cell_type": "code",
   "execution_count": 8,
   "id": "6958ab0f",
   "metadata": {},
   "outputs": [],
   "source": [
    "def mulp2():\n",
    "    total1=mulp1()\n",
    "    z=int(input('z= '))\n",
    "    total2=total1*z\n",
    "    print('final result=',total2)"
   ]
  },
  {
   "cell_type": "code",
   "execution_count": 9,
   "id": "e375187c",
   "metadata": {},
   "outputs": [
    {
     "name": "stdout",
     "output_type": "stream",
     "text": [
      "x= 2\n",
      "y= 5\n",
      "10\n",
      "z= 6\n",
      "final result= 60\n"
     ]
    }
   ],
   "source": [
    "mulp2()"
   ]
  },
  {
   "cell_type": "code",
   "execution_count": null,
   "id": "6c50936c",
   "metadata": {},
   "outputs": [],
   "source": []
  }
 ],
 "metadata": {
  "kernelspec": {
   "display_name": "Python 3 (ipykernel)",
   "language": "python",
   "name": "python3"
  },
  "language_info": {
   "codemirror_mode": {
    "name": "ipython",
    "version": 3
   },
   "file_extension": ".py",
   "mimetype": "text/x-python",
   "name": "python",
   "nbconvert_exporter": "python",
   "pygments_lexer": "ipython3",
   "version": "3.11.5"
  }
 },
 "nbformat": 4,
 "nbformat_minor": 5
}
