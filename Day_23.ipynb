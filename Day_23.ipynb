{
 "cells": [
  {
   "cell_type": "markdown",
   "id": "30cea4af",
   "metadata": {},
   "source": [
    "# Zip\n"
   ]
  },
  {
   "cell_type": "code",
   "execution_count": 4,
   "id": "092c6c77",
   "metadata": {},
   "outputs": [],
   "source": [
    "import zipfile as zp\n",
    "zipp=zp.ZipFile('Zipped.zip','w') # W stad for write\n",
    "zipp.write('Loop_practice.jpg')\n",
    "zipp.write('Practice_1.jpg')"
   ]
  },
  {
   "cell_type": "markdown",
   "id": "1aa0c4be",
   "metadata": {},
   "source": [
    "# Unzip"
   ]
  },
  {
   "cell_type": "code",
   "execution_count": 6,
   "id": "303032e7",
   "metadata": {},
   "outputs": [],
   "source": [
    "with zp.ZipFile ('Zipped.zip','r') as file: # r stand for read\n",
    "    file.extractall('Temp Unzip')"
   ]
  },
  {
   "cell_type": "code",
   "execution_count": null,
   "id": "19ce2ce4",
   "metadata": {},
   "outputs": [],
   "source": []
  }
 ],
 "metadata": {
  "kernelspec": {
   "display_name": "Python 3 (ipykernel)",
   "language": "python",
   "name": "python3"
  },
  "language_info": {
   "codemirror_mode": {
    "name": "ipython",
    "version": 3
   },
   "file_extension": ".py",
   "mimetype": "text/x-python",
   "name": "python",
   "nbconvert_exporter": "python",
   "pygments_lexer": "ipython3",
   "version": "3.11.5"
  }
 },
 "nbformat": 4,
 "nbformat_minor": 5
}
