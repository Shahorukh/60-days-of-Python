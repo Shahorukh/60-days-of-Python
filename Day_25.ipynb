{
 "cells": [
  {
   "cell_type": "markdown",
   "id": "48f4ccc5",
   "metadata": {},
   "source": [
    "# enumerate ()"
   ]
  },
  {
   "cell_type": "code",
   "execution_count": 1,
   "id": "c1d9a5b1",
   "metadata": {},
   "outputs": [],
   "source": [
    "ids=(1,2,3)\n",
    "name=('shakil','mejbah','sohan')"
   ]
  },
  {
   "cell_type": "code",
   "execution_count": 2,
   "id": "dca9b87a",
   "metadata": {},
   "outputs": [],
   "source": [
    "zipped=tuple(zip(ids,name))"
   ]
  },
  {
   "cell_type": "code",
   "execution_count": 3,
   "id": "75e63c3e",
   "metadata": {},
   "outputs": [
    {
     "data": {
      "text/plain": [
       "((1, 'shakil'), (2, 'mejbah'), (3, 'sohan'))"
      ]
     },
     "execution_count": 3,
     "metadata": {},
     "output_type": "execute_result"
    }
   ],
   "source": [
    "zipped"
   ]
  },
  {
   "cell_type": "code",
   "execution_count": 4,
   "id": "a35079a3",
   "metadata": {},
   "outputs": [],
   "source": [
    "id_new,name_new=zip(*zipped)"
   ]
  },
  {
   "cell_type": "code",
   "execution_count": 5,
   "id": "0c8be4c9",
   "metadata": {},
   "outputs": [
    {
     "data": {
      "text/plain": [
       "(1, 2, 3)"
      ]
     },
     "execution_count": 5,
     "metadata": {},
     "output_type": "execute_result"
    }
   ],
   "source": [
    "id_new"
   ]
  },
  {
   "cell_type": "code",
   "execution_count": 6,
   "id": "a172bb05",
   "metadata": {},
   "outputs": [
    {
     "data": {
      "text/plain": [
       "('shakil', 'mejbah', 'sohan')"
      ]
     },
     "execution_count": 6,
     "metadata": {},
     "output_type": "execute_result"
    }
   ],
   "source": [
    "name_new"
   ]
  },
  {
   "cell_type": "code",
   "execution_count": 7,
   "id": "8525113c",
   "metadata": {},
   "outputs": [],
   "source": [
    "i1,n1=zipped[0]"
   ]
  },
  {
   "cell_type": "code",
   "execution_count": 8,
   "id": "e87de5c4",
   "metadata": {},
   "outputs": [
    {
     "data": {
      "text/plain": [
       "1"
      ]
     },
     "execution_count": 8,
     "metadata": {},
     "output_type": "execute_result"
    }
   ],
   "source": [
    "i1"
   ]
  },
  {
   "cell_type": "code",
   "execution_count": 9,
   "id": "dca806af",
   "metadata": {},
   "outputs": [
    {
     "data": {
      "text/plain": [
       "'shakil'"
      ]
     },
     "execution_count": 9,
     "metadata": {},
     "output_type": "execute_result"
    }
   ],
   "source": [
    "n1"
   ]
  },
  {
   "cell_type": "markdown",
   "id": "43e0dcd3",
   "metadata": {},
   "source": [
    "# Unpacking using   loop"
   ]
  },
  {
   "cell_type": "code",
   "execution_count": 10,
   "id": "446cbeae",
   "metadata": {},
   "outputs": [
    {
     "data": {
      "text/plain": [
       "((1, 'shakil'), (2, 'mejbah'), (3, 'sohan'))"
      ]
     },
     "execution_count": 10,
     "metadata": {},
     "output_type": "execute_result"
    }
   ],
   "source": [
    "zipped"
   ]
  },
  {
   "cell_type": "code",
   "execution_count": 11,
   "id": "c1bea9dd",
   "metadata": {},
   "outputs": [
    {
     "name": "stdout",
     "output_type": "stream",
     "text": [
      "1 shakil\n",
      "2 mejbah\n",
      "3 sohan\n"
     ]
    }
   ],
   "source": [
    "for ids,name in zipped:\n",
    "    print(ids,name)"
   ]
  },
  {
   "cell_type": "markdown",
   "id": "e8417d3f",
   "metadata": {},
   "source": [
    "# Enumerating : Iterate over pairs"
   ]
  },
  {
   "cell_type": "code",
   "execution_count": 12,
   "id": "1939fe4f",
   "metadata": {},
   "outputs": [
    {
     "name": "stdout",
     "output_type": "stream",
     "text": [
      "(0, (1, 'shakil'))\n",
      "(1, (2, 'mejbah'))\n",
      "(2, (3, 'sohan'))\n"
     ]
    }
   ],
   "source": [
    "for data in enumerate(zipped):\n",
    "    ids,name=data\n",
    "    print(data)"
   ]
  },
  {
   "cell_type": "code",
   "execution_count": 13,
   "id": "3e2c672a",
   "metadata": {},
   "outputs": [
    {
     "name": "stdout",
     "output_type": "stream",
     "text": [
      "Rank 0, id=1 ,Name=shakil\n",
      "Rank 1, id=2 ,Name=mejbah\n",
      "Rank 2, id=3 ,Name=sohan\n"
     ]
    }
   ],
   "source": [
    "for index,pair in enumerate(zipped):\n",
    "    ids,name=pair\n",
    "    print('Rank {}, id={} ,Name={}'.format(index,ids,name))"
   ]
  },
  {
   "cell_type": "code",
   "execution_count": null,
   "id": "75765531",
   "metadata": {},
   "outputs": [],
   "source": []
  }
 ],
 "metadata": {
  "kernelspec": {
   "display_name": "Python 3 (ipykernel)",
   "language": "python",
   "name": "python3"
  },
  "language_info": {
   "codemirror_mode": {
    "name": "ipython",
    "version": 3
   },
   "file_extension": ".py",
   "mimetype": "text/x-python",
   "name": "python",
   "nbconvert_exporter": "python",
   "pygments_lexer": "ipython3",
   "version": "3.11.5"
  }
 },
 "nbformat": 4,
 "nbformat_minor": 5
}
