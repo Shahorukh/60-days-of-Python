{
 "cells": [
  {
   "cell_type": "markdown",
   "id": "1a3e90ad",
   "metadata": {},
   "source": [
    "# Function in Python:"
   ]
  },
  {
   "cell_type": "code",
   "execution_count": 1,
   "id": "682389b6",
   "metadata": {},
   "outputs": [],
   "source": [
    "def dept ():\n",
    "    print('Data  Science')"
   ]
  },
  {
   "cell_type": "code",
   "execution_count": 2,
   "id": "06665251",
   "metadata": {},
   "outputs": [
    {
     "name": "stdout",
     "output_type": "stream",
     "text": [
      "Data  Science\n",
      "None\n"
     ]
    }
   ],
   "source": [
    "print(dept())"
   ]
  },
  {
   "cell_type": "code",
   "execution_count": 3,
   "id": "b85a1acc",
   "metadata": {},
   "outputs": [
    {
     "name": "stdout",
     "output_type": "stream",
     "text": [
      "Data  Science\n"
     ]
    }
   ],
   "source": [
    "dept()"
   ]
  },
  {
   "cell_type": "code",
   "execution_count": 4,
   "id": "24af5d2f",
   "metadata": {},
   "outputs": [],
   "source": [
    "def dept():\n",
    "    print(2+2)\n",
    "    print('Data Science')"
   ]
  },
  {
   "cell_type": "code",
   "execution_count": 5,
   "id": "6885af03",
   "metadata": {},
   "outputs": [
    {
     "name": "stdout",
     "output_type": "stream",
     "text": [
      "4\n",
      "Data Science\n"
     ]
    }
   ],
   "source": [
    "dept()"
   ]
  },
  {
   "cell_type": "code",
   "execution_count": 6,
   "id": "fc89f52e",
   "metadata": {},
   "outputs": [],
   "source": [
    "def dept_with_names (name):\n",
    "    print(f'My major is {name}')"
   ]
  },
  {
   "cell_type": "code",
   "execution_count": 8,
   "id": "819e1383",
   "metadata": {},
   "outputs": [
    {
     "name": "stdout",
     "output_type": "stream",
     "text": [
      "My major is Data Science\n"
     ]
    }
   ],
   "source": [
    "dept_with_names('Data Science')"
   ]
  },
  {
   "cell_type": "code",
   "execution_count": 9,
   "id": "1a1e53ff",
   "metadata": {},
   "outputs": [],
   "source": [
    "def dept_name(name):\n",
    "    print('My department is ',name)\n"
   ]
  },
  {
   "cell_type": "code",
   "execution_count": 10,
   "id": "4fd87901",
   "metadata": {},
   "outputs": [
    {
     "name": "stdout",
     "output_type": "stream",
     "text": [
      "My department is  Data Scine\n"
     ]
    }
   ],
   "source": [
    "dept_name('Data Scine')"
   ]
  },
  {
   "cell_type": "code",
   "execution_count": 15,
   "id": "10b660cf",
   "metadata": {},
   "outputs": [],
   "source": [
    "def name():\n",
    "    print('SRK')\n",
    "    return 1"
   ]
  },
  {
   "cell_type": "code",
   "execution_count": 12,
   "id": "8f41397f",
   "metadata": {},
   "outputs": [
    {
     "name": "stdout",
     "output_type": "stream",
     "text": [
      "SRK\n"
     ]
    },
    {
     "data": {
      "text/plain": [
       "1"
      ]
     },
     "execution_count": 12,
     "metadata": {},
     "output_type": "execute_result"
    }
   ],
   "source": [
    "name()"
   ]
  },
  {
   "cell_type": "code",
   "execution_count": 16,
   "id": "a038c1f2",
   "metadata": {},
   "outputs": [],
   "source": [
    "def name():\n",
    "    return dept_name('Mathematics')"
   ]
  },
  {
   "cell_type": "code",
   "execution_count": 17,
   "id": "644f7add",
   "metadata": {},
   "outputs": [
    {
     "name": "stdout",
     "output_type": "stream",
     "text": [
      "My department is  Mathematics\n"
     ]
    }
   ],
   "source": [
    "name()"
   ]
  },
  {
   "cell_type": "markdown",
   "id": "6bce8a53",
   "metadata": {},
   "source": [
    "# Question : 01\n",
    "## write a function that wont take any parameters explicitly .Instead ,it define local variables a and b within the function and return their sum.The values of a and b are fixed within the function."
   ]
  },
  {
   "cell_type": "code",
   "execution_count": 18,
   "id": "c70bce1c",
   "metadata": {},
   "outputs": [],
   "source": [
    "def add():\n",
    "    a=30\n",
    "    b=40\n",
    "    return (a+b)"
   ]
  },
  {
   "cell_type": "code",
   "execution_count": 19,
   "id": "6ade19fd",
   "metadata": {},
   "outputs": [
    {
     "data": {
      "text/plain": [
       "70"
      ]
     },
     "execution_count": 19,
     "metadata": {},
     "output_type": "execute_result"
    }
   ],
   "source": [
    "add()"
   ]
  },
  {
   "cell_type": "code",
   "execution_count": 20,
   "id": "fde443c9",
   "metadata": {},
   "outputs": [],
   "source": [
    "def add():\n",
    "    a=30\n",
    "    b=40\n",
    "    result =a+b\n",
    "    return result"
   ]
  },
  {
   "cell_type": "code",
   "execution_count": 21,
   "id": "f03d2ddc",
   "metadata": {},
   "outputs": [
    {
     "data": {
      "text/plain": [
       "70"
      ]
     },
     "execution_count": 21,
     "metadata": {},
     "output_type": "execute_result"
    }
   ],
   "source": [
    "add()"
   ]
  },
  {
   "cell_type": "markdown",
   "id": "95b970ec",
   "metadata": {},
   "source": [
    "# Question 2:"
   ]
  },
  {
   "cell_type": "markdown",
   "id": "afcc55a3",
   "metadata": {},
   "source": [
    "## Write a function that will take two parameters ,a and b ,and returns their sum .The  values of a and b will not fixed within the function ,they are determined by the arguments passed when the function is called.That will make the function more flexible because it can add any two numbers,not just the fixed values in the first function."
   ]
  },
  {
   "cell_type": "code",
   "execution_count": 22,
   "id": "f573dcdf",
   "metadata": {},
   "outputs": [],
   "source": [
    "def add (a,b):\n",
    "    return a+b"
   ]
  },
  {
   "cell_type": "code",
   "execution_count": 23,
   "id": "32cacecf",
   "metadata": {},
   "outputs": [
    {
     "data": {
      "text/plain": [
       "70"
      ]
     },
     "execution_count": 23,
     "metadata": {},
     "output_type": "execute_result"
    }
   ],
   "source": [
    "add(30,40)"
   ]
  },
  {
   "cell_type": "code",
   "execution_count": 24,
   "id": "7b7f6091",
   "metadata": {},
   "outputs": [
    {
     "data": {
      "text/plain": [
       "30"
      ]
     },
     "execution_count": 24,
     "metadata": {},
     "output_type": "execute_result"
    }
   ],
   "source": [
    "add(10,20)"
   ]
  },
  {
   "cell_type": "code",
   "execution_count": null,
   "id": "d56f5db5",
   "metadata": {},
   "outputs": [],
   "source": []
  }
 ],
 "metadata": {
  "kernelspec": {
   "display_name": "Python 3 (ipykernel)",
   "language": "python",
   "name": "python3"
  },
  "language_info": {
   "codemirror_mode": {
    "name": "ipython",
    "version": 3
   },
   "file_extension": ".py",
   "mimetype": "text/x-python",
   "name": "python",
   "nbconvert_exporter": "python",
   "pygments_lexer": "ipython3",
   "version": "3.11.5"
  }
 },
 "nbformat": 4,
 "nbformat_minor": 5
}
