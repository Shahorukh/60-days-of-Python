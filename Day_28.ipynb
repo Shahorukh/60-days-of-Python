{
 "cells": [
  {
   "cell_type": "markdown",
   "id": "67297ca9",
   "metadata": {},
   "source": [
    "# 25 Commonly used built in function"
   ]
  },
  {
   "cell_type": "markdown",
   "id": "25e6983a",
   "metadata": {},
   "source": [
    "## 1) print(): Outputs text or variables to the console"
   ]
  },
  {
   "cell_type": "code",
   "execution_count": 1,
   "id": "c008274a",
   "metadata": {},
   "outputs": [
    {
     "name": "stdout",
     "output_type": "stream",
     "text": [
      "Data Science\n"
     ]
    }
   ],
   "source": [
    "print('Data Science')"
   ]
  },
  {
   "cell_type": "markdown",
   "id": "7a4be2d6",
   "metadata": {},
   "source": [
    "# 2) len(): Return the length of an object"
   ]
  },
  {
   "cell_type": "code",
   "execution_count": 2,
   "id": "0925c787",
   "metadata": {},
   "outputs": [],
   "source": [
    "my_list=[1,2,3,4,5]\n",
    "length=len(my_list)"
   ]
  },
  {
   "cell_type": "code",
   "execution_count": 3,
   "id": "b43b88b7",
   "metadata": {},
   "outputs": [
    {
     "data": {
      "text/plain": [
       "5"
      ]
     },
     "execution_count": 3,
     "metadata": {},
     "output_type": "execute_result"
    }
   ],
   "source": [
    "length"
   ]
  },
  {
   "cell_type": "markdown",
   "id": "ad1e1ec2",
   "metadata": {},
   "source": [
    "# 3) input(): Read input from  the user"
   ]
  },
  {
   "cell_type": "code",
   "execution_count": 4,
   "id": "6e219113",
   "metadata": {},
   "outputs": [
    {
     "name": "stdout",
     "output_type": "stream",
     "text": [
      "Enter something: I want to be a Data Scientist\n"
     ]
    }
   ],
   "source": [
    "user_input=input('Enter something: ')"
   ]
  },
  {
   "cell_type": "code",
   "execution_count": 5,
   "id": "4199b646",
   "metadata": {},
   "outputs": [
    {
     "data": {
      "text/plain": [
       "'I want to be a Data Scientist'"
      ]
     },
     "execution_count": 5,
     "metadata": {},
     "output_type": "execute_result"
    }
   ],
   "source": [
    "user_input"
   ]
  },
  {
   "cell_type": "markdown",
   "id": "06da3b29",
   "metadata": {},
   "source": [
    "# 4) type(): Returns type of an object"
   ]
  },
  {
   "cell_type": "code",
   "execution_count": 6,
   "id": "06e34354",
   "metadata": {},
   "outputs": [
    {
     "data": {
      "text/plain": [
       "int"
      ]
     },
     "execution_count": 6,
     "metadata": {},
     "output_type": "execute_result"
    }
   ],
   "source": [
    "x=5\n",
    "type(x)"
   ]
  },
  {
   "cell_type": "markdown",
   "id": "0486d254",
   "metadata": {},
   "source": [
    "# 5) int(),float(),str(): Converts value to integer,float,strings"
   ]
  },
  {
   "cell_type": "code",
   "execution_count": 7,
   "id": "80fb96f1",
   "metadata": {},
   "outputs": [],
   "source": [
    "num_str='42'"
   ]
  },
  {
   "cell_type": "code",
   "execution_count": 8,
   "id": "bc404231",
   "metadata": {},
   "outputs": [],
   "source": [
    "num_int=int(num_str)"
   ]
  },
  {
   "cell_type": "code",
   "execution_count": 9,
   "id": "ae316feb",
   "metadata": {},
   "outputs": [
    {
     "data": {
      "text/plain": [
       "42"
      ]
     },
     "execution_count": 9,
     "metadata": {},
     "output_type": "execute_result"
    }
   ],
   "source": [
    "num_int"
   ]
  },
  {
   "cell_type": "code",
   "execution_count": 10,
   "id": "cd259b4b",
   "metadata": {},
   "outputs": [
    {
     "data": {
      "text/plain": [
       "int"
      ]
     },
     "execution_count": 10,
     "metadata": {},
     "output_type": "execute_result"
    }
   ],
   "source": [
    "type(num_int)"
   ]
  },
  {
   "cell_type": "code",
   "execution_count": 11,
   "id": "6eb1ce41",
   "metadata": {},
   "outputs": [
    {
     "data": {
      "text/plain": [
       "42.0"
      ]
     },
     "execution_count": 11,
     "metadata": {},
     "output_type": "execute_result"
    }
   ],
   "source": [
    "float(num_int)"
   ]
  },
  {
   "cell_type": "markdown",
   "id": "deaf06d5",
   "metadata": {},
   "source": [
    "# 6) range(): Generates a sequence of numbers"
   ]
  },
  {
   "cell_type": "code",
   "execution_count": 12,
   "id": "f07819b0",
   "metadata": {},
   "outputs": [],
   "source": [
    "numbers=list(range(1,6))"
   ]
  },
  {
   "cell_type": "code",
   "execution_count": 13,
   "id": "31a19fae",
   "metadata": {},
   "outputs": [
    {
     "name": "stdout",
     "output_type": "stream",
     "text": [
      "[1, 2, 3, 4, 5]\n"
     ]
    }
   ],
   "source": [
    "print(numbers)"
   ]
  },
  {
   "cell_type": "markdown",
   "id": "bd34dc4a",
   "metadata": {},
   "source": [
    "# 7) sum(): Returns the sum of all elements\n"
   ]
  },
  {
   "cell_type": "code",
   "execution_count": 14,
   "id": "19e9f926",
   "metadata": {},
   "outputs": [],
   "source": [
    "my_list=[1,2,3,4,5]"
   ]
  },
  {
   "cell_type": "code",
   "execution_count": 15,
   "id": "159eea16",
   "metadata": {},
   "outputs": [],
   "source": [
    "total=sum(my_list)"
   ]
  },
  {
   "cell_type": "code",
   "execution_count": 16,
   "id": "48cfa43c",
   "metadata": {},
   "outputs": [
    {
     "data": {
      "text/plain": [
       "15"
      ]
     },
     "execution_count": 16,
     "metadata": {},
     "output_type": "execute_result"
    }
   ],
   "source": [
    "total"
   ]
  },
  {
   "cell_type": "markdown",
   "id": "dee743b0",
   "metadata": {},
   "source": [
    "# 8) max(),min(): Return the maximum and minimum value from an iterable"
   ]
  },
  {
   "cell_type": "code",
   "execution_count": 17,
   "id": "391517bc",
   "metadata": {},
   "outputs": [],
   "source": [
    "numbers=[3,1,4,1,5,9,2]"
   ]
  },
  {
   "cell_type": "code",
   "execution_count": 18,
   "id": "dcf53e54",
   "metadata": {},
   "outputs": [],
   "source": [
    "max_val=max(numbers)"
   ]
  },
  {
   "cell_type": "code",
   "execution_count": 19,
   "id": "0cc13f63",
   "metadata": {},
   "outputs": [
    {
     "data": {
      "text/plain": [
       "9"
      ]
     },
     "execution_count": 19,
     "metadata": {},
     "output_type": "execute_result"
    }
   ],
   "source": [
    "max_val"
   ]
  },
  {
   "cell_type": "code",
   "execution_count": 20,
   "id": "2131e201",
   "metadata": {},
   "outputs": [
    {
     "name": "stdout",
     "output_type": "stream",
     "text": [
      "1\n"
     ]
    }
   ],
   "source": [
    "print(min(numbers))"
   ]
  },
  {
   "cell_type": "markdown",
   "id": "89d41828",
   "metadata": {},
   "source": [
    "# 9) abs(): Returns the absolute value of a number"
   ]
  },
  {
   "cell_type": "code",
   "execution_count": 21,
   "id": "6181ca3c",
   "metadata": {},
   "outputs": [],
   "source": [
    "abs_value=abs(-10)"
   ]
  },
  {
   "cell_type": "code",
   "execution_count": 22,
   "id": "76fb084d",
   "metadata": {},
   "outputs": [
    {
     "data": {
      "text/plain": [
       "10"
      ]
     },
     "execution_count": 22,
     "metadata": {},
     "output_type": "execute_result"
    }
   ],
   "source": [
    "abs_value"
   ]
  },
  {
   "cell_type": "markdown",
   "id": "e0e38e22",
   "metadata": {},
   "source": [
    "# 10) round(): Rounds a floating point number to a specified number of decimals"
   ]
  },
  {
   "cell_type": "code",
   "execution_count": 23,
   "id": "c36da26b",
   "metadata": {},
   "outputs": [],
   "source": [
    "round_num=round(3.14159)"
   ]
  },
  {
   "cell_type": "code",
   "execution_count": 24,
   "id": "f20ac104",
   "metadata": {},
   "outputs": [
    {
     "name": "stdout",
     "output_type": "stream",
     "text": [
      "3\n"
     ]
    }
   ],
   "source": [
    "print(round_num)"
   ]
  },
  {
   "cell_type": "code",
   "execution_count": 25,
   "id": "9dcfaa27",
   "metadata": {},
   "outputs": [],
   "source": [
    "round_num=round(3.14159,4)"
   ]
  },
  {
   "cell_type": "code",
   "execution_count": 26,
   "id": "3d0b8f42",
   "metadata": {},
   "outputs": [
    {
     "name": "stdout",
     "output_type": "stream",
     "text": [
      "3.1416\n"
     ]
    }
   ],
   "source": [
    "print(round_num)"
   ]
  },
  {
   "cell_type": "code",
   "execution_count": 27,
   "id": "f790b684",
   "metadata": {},
   "outputs": [],
   "source": [
    "lst=[3.344,4.56745,6.667674]"
   ]
  },
  {
   "cell_type": "code",
   "execution_count": 28,
   "id": "42312de1",
   "metadata": {},
   "outputs": [
    {
     "ename": "TypeError",
     "evalue": "type list doesn't define __round__ method",
     "output_type": "error",
     "traceback": [
      "\u001b[1;31m---------------------------------------------------------------------------\u001b[0m",
      "\u001b[1;31mTypeError\u001b[0m                                 Traceback (most recent call last)",
      "Cell \u001b[1;32mIn[28], line 1\u001b[0m\n\u001b[1;32m----> 1\u001b[0m rd\u001b[38;5;241m=\u001b[39m\u001b[38;5;28mround\u001b[39m(lst,\u001b[38;5;241m3\u001b[39m)\n",
      "\u001b[1;31mTypeError\u001b[0m: type list doesn't define __round__ method"
     ]
    }
   ],
   "source": [
    "rd=round(lst,3)"
   ]
  },
  {
   "cell_type": "markdown",
   "id": "f112e526",
   "metadata": {},
   "source": [
    "# 11) sorted(): Returns a new sorted list from the elements of an iterable"
   ]
  },
  {
   "cell_type": "code",
   "execution_count": 29,
   "id": "fab84c11",
   "metadata": {},
   "outputs": [],
   "source": [
    "numbers=[3,1,4,1,5,9,2]"
   ]
  },
  {
   "cell_type": "code",
   "execution_count": 30,
   "id": "16154f73",
   "metadata": {},
   "outputs": [],
   "source": [
    "srtd=sorted(numbers)"
   ]
  },
  {
   "cell_type": "code",
   "execution_count": 32,
   "id": "eb0dbc27",
   "metadata": {},
   "outputs": [
    {
     "name": "stdout",
     "output_type": "stream",
     "text": [
      "[1, 1, 2, 3, 4, 5, 9]\n"
     ]
    }
   ],
   "source": [
    "print(srtd)"
   ]
  },
  {
   "cell_type": "markdown",
   "id": "3382569a",
   "metadata": {},
   "source": [
    "# 12) any(),all(): Returs True if any or all elemets in an iterable are true"
   ]
  },
  {
   "cell_type": "code",
   "execution_count": 33,
   "id": "374ef98d",
   "metadata": {},
   "outputs": [],
   "source": [
    "bool_list=[True,False,True,True]"
   ]
  },
  {
   "cell_type": "code",
   "execution_count": 34,
   "id": "f6711862",
   "metadata": {},
   "outputs": [],
   "source": [
    "any_true=any(bool_list)"
   ]
  },
  {
   "cell_type": "code",
   "execution_count": 35,
   "id": "a7473b98",
   "metadata": {},
   "outputs": [
    {
     "name": "stdout",
     "output_type": "stream",
     "text": [
      "True\n"
     ]
    }
   ],
   "source": [
    "print(any_true)"
   ]
  },
  {
   "cell_type": "code",
   "execution_count": 36,
   "id": "8813bdb7",
   "metadata": {},
   "outputs": [],
   "source": [
    "all_true=all(bool_list)"
   ]
  },
  {
   "cell_type": "code",
   "execution_count": 37,
   "id": "0d9908a1",
   "metadata": {},
   "outputs": [
    {
     "name": "stdout",
     "output_type": "stream",
     "text": [
      "False\n"
     ]
    }
   ],
   "source": [
    "print(all_true)"
   ]
  },
  {
   "cell_type": "markdown",
   "id": "010afac7",
   "metadata": {},
   "source": [
    "# 13) str.join(): Joins elements of an iterable with a string as separator"
   ]
  },
  {
   "cell_type": "code",
   "execution_count": 38,
   "id": "8c67585c",
   "metadata": {},
   "outputs": [],
   "source": [
    "my_list=['apple','banana','orange']"
   ]
  },
  {
   "cell_type": "code",
   "execution_count": 39,
   "id": "05a16fd9",
   "metadata": {},
   "outputs": [],
   "source": [
    "joined_str=','.join(my_list)"
   ]
  },
  {
   "cell_type": "code",
   "execution_count": 40,
   "id": "6a01f3cf",
   "metadata": {},
   "outputs": [
    {
     "data": {
      "text/plain": [
       "'apple,banana,orange'"
      ]
     },
     "execution_count": 40,
     "metadata": {},
     "output_type": "execute_result"
    }
   ],
   "source": [
    "joined_str"
   ]
  },
  {
   "cell_type": "code",
   "execution_count": 41,
   "id": "966bd232",
   "metadata": {},
   "outputs": [],
   "source": [
    "joined_str='+'.join(my_list)"
   ]
  },
  {
   "cell_type": "code",
   "execution_count": 42,
   "id": "1b2c5392",
   "metadata": {},
   "outputs": [
    {
     "data": {
      "text/plain": [
       "'apple+banana+orange'"
      ]
     },
     "execution_count": 42,
     "metadata": {},
     "output_type": "execute_result"
    }
   ],
   "source": [
    "joined_str"
   ]
  },
  {
   "cell_type": "markdown",
   "id": "a3bc1cba",
   "metadata": {},
   "source": [
    "# 14) str.lower(),str.upper(): Converts a string lowercase to uppercase"
   ]
  },
  {
   "cell_type": "code",
   "execution_count": 46,
   "id": "81226424",
   "metadata": {},
   "outputs": [],
   "source": [
    "my_string='HeLLo worlD'"
   ]
  },
  {
   "cell_type": "code",
   "execution_count": 48,
   "id": "fe65e7fd",
   "metadata": {},
   "outputs": [
    {
     "name": "stdout",
     "output_type": "stream",
     "text": [
      "HELLO WORLD\n"
     ]
    }
   ],
   "source": [
    "print(my_string.upper())"
   ]
  },
  {
   "cell_type": "code",
   "execution_count": 49,
   "id": "739903db",
   "metadata": {},
   "outputs": [
    {
     "name": "stdout",
     "output_type": "stream",
     "text": [
      "hello world\n"
     ]
    }
   ],
   "source": [
    "print(my_string.lower())"
   ]
  },
  {
   "cell_type": "markdown",
   "id": "6423404a",
   "metadata": {},
   "source": [
    "# 15) list().tuple(): Converts an iterable to a list or tuple"
   ]
  },
  {
   "cell_type": "code",
   "execution_count": 50,
   "id": "02ff435e",
   "metadata": {},
   "outputs": [],
   "source": [
    "my_tuple=(1,2,3)"
   ]
  },
  {
   "cell_type": "code",
   "execution_count": 51,
   "id": "2028b9eb",
   "metadata": {},
   "outputs": [
    {
     "name": "stdout",
     "output_type": "stream",
     "text": [
      "[1, 2, 3]\n"
     ]
    }
   ],
   "source": [
    "print(list(my_tuple))"
   ]
  },
  {
   "cell_type": "code",
   "execution_count": 52,
   "id": "5325aefd",
   "metadata": {},
   "outputs": [],
   "source": [
    "list=[1,2,3,4,5]"
   ]
  },
  {
   "cell_type": "code",
   "execution_count": 53,
   "id": "f3ef4f04",
   "metadata": {},
   "outputs": [
    {
     "name": "stdout",
     "output_type": "stream",
     "text": [
      "(1, 2, 3, 4, 5)\n"
     ]
    }
   ],
   "source": [
    "print(tuple(list))"
   ]
  },
  {
   "cell_type": "markdown",
   "id": "04156e24",
   "metadata": {},
   "source": [
    "# 16) set(): Creates a set"
   ]
  },
  {
   "cell_type": "code",
   "execution_count": 54,
   "id": "aa0996a3",
   "metadata": {},
   "outputs": [],
   "source": [
    "my_set=set([1,2,3,4,5])"
   ]
  },
  {
   "cell_type": "code",
   "execution_count": 55,
   "id": "345d71fc",
   "metadata": {},
   "outputs": [
    {
     "name": "stdout",
     "output_type": "stream",
     "text": [
      "{1, 2, 3, 4, 5}\n"
     ]
    }
   ],
   "source": [
    "print(my_set)"
   ]
  },
  {
   "cell_type": "markdown",
   "id": "49e89f31",
   "metadata": {},
   "source": [
    "# 18) enumerate(): Returns tuples with the index and correspondig element"
   ]
  },
  {
   "cell_type": "code",
   "execution_count": 56,
   "id": "30160ce0",
   "metadata": {},
   "outputs": [],
   "source": [
    "my_list=['Alice','Bob','Charlie']"
   ]
  },
  {
   "cell_type": "code",
   "execution_count": 57,
   "id": "5ead873b",
   "metadata": {},
   "outputs": [
    {
     "name": "stdout",
     "output_type": "stream",
     "text": [
      "0 Alice\n",
      "1 Bob\n",
      "2 Charlie\n"
     ]
    }
   ],
   "source": [
    "for index,value in enumerate(my_list):\n",
    "    print(index,value)"
   ]
  },
  {
   "cell_type": "code",
   "execution_count": 58,
   "id": "c690a6a3",
   "metadata": {},
   "outputs": [],
   "source": [
    "my_lst=[1,34,445,544,3]"
   ]
  },
  {
   "cell_type": "code",
   "execution_count": 60,
   "id": "393721f5",
   "metadata": {},
   "outputs": [
    {
     "name": "stdout",
     "output_type": "stream",
     "text": [
      "0 1\n",
      "1 34\n",
      "2 445\n",
      "3 544\n",
      "4 3\n"
     ]
    }
   ],
   "source": [
    "for i,x in enumerate(my_lst):\n",
    "    print(i,x)"
   ]
  },
  {
   "cell_type": "markdown",
   "id": "aa161ab4",
   "metadata": {},
   "source": [
    "# 19) zip(): Conbine two or more iterable element_wise"
   ]
  },
  {
   "cell_type": "code",
   "execution_count": 61,
   "id": "c6ba7f15",
   "metadata": {},
   "outputs": [],
   "source": [
    "names=['Alice','Bob','Charlie']"
   ]
  },
  {
   "cell_type": "code",
   "execution_count": 62,
   "id": "9a3b7c4f",
   "metadata": {},
   "outputs": [],
   "source": [
    "ages=[25,30,32]"
   ]
  },
  {
   "cell_type": "code",
   "execution_count": 63,
   "id": "3619fb64",
   "metadata": {},
   "outputs": [],
   "source": [
    "zipped=zip(names,ages)"
   ]
  },
  {
   "cell_type": "code",
   "execution_count": 64,
   "id": "f5924f6a",
   "metadata": {},
   "outputs": [
    {
     "name": "stdout",
     "output_type": "stream",
     "text": [
      "<zip object at 0x000002781F7F3A00>\n"
     ]
    }
   ],
   "source": [
    "print(zipped)"
   ]
  },
  {
   "cell_type": "code",
   "execution_count": 65,
   "id": "b5d6b66e",
   "metadata": {},
   "outputs": [
    {
     "data": {
      "text/plain": [
       "zip"
      ]
     },
     "execution_count": 65,
     "metadata": {},
     "output_type": "execute_result"
    }
   ],
   "source": [
    "type(zipped)"
   ]
  },
  {
   "cell_type": "markdown",
   "id": "189be2ac",
   "metadata": {},
   "source": [
    "# reversed(): Returns a reverse iteration of a sequence"
   ]
  },
  {
   "cell_type": "code",
   "execution_count": 67,
   "id": "1f0a389a",
   "metadata": {},
   "outputs": [],
   "source": [
    "my_list=[1,2,3]"
   ]
  },
  {
   "cell_type": "code",
   "execution_count": 74,
   "id": "90e03ca7",
   "metadata": {},
   "outputs": [],
   "source": [
    "reversed_list=reversed(my_list)"
   ]
  },
  {
   "cell_type": "code",
   "execution_count": 75,
   "id": "42baeadf",
   "metadata": {},
   "outputs": [
    {
     "data": {
      "text/plain": [
       "<list_reverseiterator at 0x2781ec8c8e0>"
      ]
     },
     "execution_count": 75,
     "metadata": {},
     "output_type": "execute_result"
    }
   ],
   "source": [
    "reversed_list"
   ]
  },
  {
   "cell_type": "code",
   "execution_count": 76,
   "id": "3a840e71",
   "metadata": {},
   "outputs": [
    {
     "name": "stdout",
     "output_type": "stream",
     "text": [
      "<list_reverseiterator object at 0x000002781EC8C8E0>\n"
     ]
    }
   ],
   "source": [
    "print(reversed_list)"
   ]
  },
  {
   "cell_type": "markdown",
   "id": "597b13d5",
   "metadata": {},
   "source": [
    "# 22) sum() (with start argument): Returns the sum of an iterable with an optional starting  value"
   ]
  },
  {
   "cell_type": "code",
   "execution_count": 77,
   "id": "bcd85723",
   "metadata": {},
   "outputs": [
    {
     "data": {
      "text/plain": [
       "[3, 1, 4, 1, 5, 9, 2]"
      ]
     },
     "execution_count": 77,
     "metadata": {},
     "output_type": "execute_result"
    }
   ],
   "source": [
    "numbers"
   ]
  },
  {
   "cell_type": "code",
   "execution_count": 78,
   "id": "4fffa230",
   "metadata": {},
   "outputs": [
    {
     "data": {
      "text/plain": [
       "25"
      ]
     },
     "execution_count": 78,
     "metadata": {},
     "output_type": "execute_result"
    }
   ],
   "source": [
    "sum(numbers)"
   ]
  },
  {
   "cell_type": "code",
   "execution_count": 79,
   "id": "d2373c2d",
   "metadata": {},
   "outputs": [
    {
     "name": "stdout",
     "output_type": "stream",
     "text": [
      "35\n"
     ]
    }
   ],
   "source": [
    "total=sum(numbers,10)\n",
    "print(total)"
   ]
  },
  {
   "cell_type": "markdown",
   "id": "5f7886b2",
   "metadata": {},
   "source": [
    "# 23) abs()(for complex numbers): Returns the magnitude of a complex"
   ]
  },
  {
   "cell_type": "code",
   "execution_count": 80,
   "id": "19513f7e",
   "metadata": {},
   "outputs": [],
   "source": [
    "complex_num=3+4j"
   ]
  },
  {
   "cell_type": "code",
   "execution_count": 81,
   "id": "4978ca25",
   "metadata": {},
   "outputs": [],
   "source": [
    "magnitude=abs(complex_num)"
   ]
  },
  {
   "cell_type": "code",
   "execution_count": 82,
   "id": "13a70bc6",
   "metadata": {},
   "outputs": [
    {
     "name": "stdout",
     "output_type": "stream",
     "text": [
      "(3+4j)\n"
     ]
    }
   ],
   "source": [
    "print(complex_num)"
   ]
  },
  {
   "cell_type": "code",
   "execution_count": 83,
   "id": "d3556dcd",
   "metadata": {},
   "outputs": [
    {
     "name": "stdout",
     "output_type": "stream",
     "text": [
      "5.0\n"
     ]
    }
   ],
   "source": [
    "print(magnitude)"
   ]
  },
  {
   "cell_type": "markdown",
   "id": "117cafa5",
   "metadata": {},
   "source": [
    "# 24) slice(): Creates a slice ohject that can be used to slice sequences like lists and strings"
   ]
  },
  {
   "cell_type": "code",
   "execution_count": 84,
   "id": "4d032e86",
   "metadata": {},
   "outputs": [],
   "source": [
    "my_list=[1,2,3,4,5,6,7,8,9]"
   ]
  },
  {
   "cell_type": "code",
   "execution_count": 85,
   "id": "f2e6a9f1",
   "metadata": {},
   "outputs": [],
   "source": [
    "my_slice=slice(1,4)"
   ]
  },
  {
   "cell_type": "code",
   "execution_count": 86,
   "id": "6c30c588",
   "metadata": {},
   "outputs": [
    {
     "name": "stdout",
     "output_type": "stream",
     "text": [
      "slice(1, 4, None)\n"
     ]
    }
   ],
   "source": [
    "print(my_slice)"
   ]
  },
  {
   "cell_type": "code",
   "execution_count": 88,
   "id": "3eeb85be",
   "metadata": {},
   "outputs": [],
   "source": [
    "slice_list=my_list[my_slice]"
   ]
  },
  {
   "cell_type": "code",
   "execution_count": 89,
   "id": "bbd4797f",
   "metadata": {},
   "outputs": [
    {
     "name": "stdout",
     "output_type": "stream",
     "text": [
      "[2, 3, 4]\n"
     ]
    }
   ],
   "source": [
    "print(slice_list)"
   ]
  },
  {
   "cell_type": "code",
   "execution_count": 90,
   "id": "0e2ecd8b",
   "metadata": {},
   "outputs": [],
   "source": [
    "my_slice=slice(0,5)"
   ]
  },
  {
   "cell_type": "code",
   "execution_count": 91,
   "id": "31fb545a",
   "metadata": {},
   "outputs": [
    {
     "name": "stdout",
     "output_type": "stream",
     "text": [
      "[slice(0, 5, None)]\n"
     ]
    }
   ],
   "source": [
    "print([my_slice])"
   ]
  },
  {
   "cell_type": "code",
   "execution_count": 93,
   "id": "32dcb6c1",
   "metadata": {},
   "outputs": [],
   "source": [
    "slice_list=my_list[my_slice]"
   ]
  },
  {
   "cell_type": "code",
   "execution_count": 94,
   "id": "b9177520",
   "metadata": {},
   "outputs": [
    {
     "data": {
      "text/plain": [
       "[1, 2, 3, 4, 5]"
      ]
     },
     "execution_count": 94,
     "metadata": {},
     "output_type": "execute_result"
    }
   ],
   "source": [
    "slice_list"
   ]
  },
  {
   "cell_type": "code",
   "execution_count": 95,
   "id": "a2349a3f",
   "metadata": {},
   "outputs": [],
   "source": [
    "safa=[1,34,42,34,4,2,34,43,23,2,3]"
   ]
  },
  {
   "cell_type": "code",
   "execution_count": 96,
   "id": "e23cf42b",
   "metadata": {},
   "outputs": [],
   "source": [
    "s_slice=slice(2,6)"
   ]
  },
  {
   "cell_type": "code",
   "execution_count": 97,
   "id": "19342d47",
   "metadata": {},
   "outputs": [],
   "source": [
    "sadia=safa[s_slice]"
   ]
  },
  {
   "cell_type": "code",
   "execution_count": 98,
   "id": "d81ef429",
   "metadata": {},
   "outputs": [
    {
     "name": "stdout",
     "output_type": "stream",
     "text": [
      "[42, 34, 4, 2]\n"
     ]
    }
   ],
   "source": [
    "print(sadia)"
   ]
  },
  {
   "cell_type": "markdown",
   "id": "d7baa562",
   "metadata": {},
   "source": [
    "# chr(),ord(),(extended usage): Handling Unicode characters and code points"
   ]
  },
  {
   "cell_type": "code",
   "execution_count": 99,
   "id": "bdd31e2c",
   "metadata": {},
   "outputs": [],
   "source": [
    "euro_symbol=chr(8364)"
   ]
  },
  {
   "cell_type": "code",
   "execution_count": 100,
   "id": "24864118",
   "metadata": {},
   "outputs": [
    {
     "name": "stdout",
     "output_type": "stream",
     "text": [
      "€\n"
     ]
    }
   ],
   "source": [
    "print(euro_symbol)"
   ]
  },
  {
   "cell_type": "code",
   "execution_count": 102,
   "id": "c1fb5d30",
   "metadata": {},
   "outputs": [],
   "source": [
    "code_point=ord('€')"
   ]
  },
  {
   "cell_type": "code",
   "execution_count": 103,
   "id": "e11d53eb",
   "metadata": {},
   "outputs": [
    {
     "data": {
      "text/plain": [
       "8364"
      ]
     },
     "execution_count": 103,
     "metadata": {},
     "output_type": "execute_result"
    }
   ],
   "source": [
    "code_point"
   ]
  },
  {
   "cell_type": "code",
   "execution_count": 104,
   "id": "01fa2278",
   "metadata": {},
   "outputs": [],
   "source": [
    "code_point=ord('$')"
   ]
  },
  {
   "cell_type": "code",
   "execution_count": 105,
   "id": "c8f9f790",
   "metadata": {},
   "outputs": [
    {
     "data": {
      "text/plain": [
       "36"
      ]
     },
     "execution_count": 105,
     "metadata": {},
     "output_type": "execute_result"
    }
   ],
   "source": [
    "code_point"
   ]
  },
  {
   "cell_type": "code",
   "execution_count": 106,
   "id": "6f6f7ae8",
   "metadata": {},
   "outputs": [],
   "source": [
    "dollar_sign=chr(36)"
   ]
  },
  {
   "cell_type": "code",
   "execution_count": 107,
   "id": "8b5499cd",
   "metadata": {},
   "outputs": [
    {
     "name": "stdout",
     "output_type": "stream",
     "text": [
      "$\n"
     ]
    }
   ],
   "source": [
    "print(dollar_sign)"
   ]
  },
  {
   "cell_type": "code",
   "execution_count": 108,
   "id": "f29cf418",
   "metadata": {},
   "outputs": [],
   "source": [
    "char=chr(65)"
   ]
  },
  {
   "cell_type": "code",
   "execution_count": 109,
   "id": "8763116d",
   "metadata": {},
   "outputs": [
    {
     "data": {
      "text/plain": [
       "'A'"
      ]
     },
     "execution_count": 109,
     "metadata": {},
     "output_type": "execute_result"
    }
   ],
   "source": [
    "char"
   ]
  },
  {
   "cell_type": "code",
   "execution_count": 110,
   "id": "4ac0e930",
   "metadata": {},
   "outputs": [],
   "source": [
    "cp=ord('A')"
   ]
  },
  {
   "cell_type": "code",
   "execution_count": 111,
   "id": "39b010f4",
   "metadata": {},
   "outputs": [
    {
     "data": {
      "text/plain": [
       "65"
      ]
     },
     "execution_count": 111,
     "metadata": {},
     "output_type": "execute_result"
    }
   ],
   "source": [
    "cp"
   ]
  },
  {
   "cell_type": "code",
   "execution_count": null,
   "id": "f26ee940",
   "metadata": {},
   "outputs": [],
   "source": []
  }
 ],
 "metadata": {
  "kernelspec": {
   "display_name": "Python 3 (ipykernel)",
   "language": "python",
   "name": "python3"
  },
  "language_info": {
   "codemirror_mode": {
    "name": "ipython",
    "version": 3
   },
   "file_extension": ".py",
   "mimetype": "text/x-python",
   "name": "python",
   "nbconvert_exporter": "python",
   "pygments_lexer": "ipython3",
   "version": "3.11.5"
  }
 },
 "nbformat": 4,
 "nbformat_minor": 5
}
