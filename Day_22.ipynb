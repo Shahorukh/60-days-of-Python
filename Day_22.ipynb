{
 "cells": [
  {
   "cell_type": "markdown",
   "id": "c428a539",
   "metadata": {},
   "source": [
    "# Zip in Python"
   ]
  },
  {
   "cell_type": "code",
   "execution_count": 1,
   "id": "005452f7",
   "metadata": {},
   "outputs": [],
   "source": [
    "name=['shakil','mesbah','sohan']\n",
    "varsity=['diu','aiub','diu']\n"
   ]
  },
  {
   "cell_type": "code",
   "execution_count": 2,
   "id": "dc66c0e5",
   "metadata": {},
   "outputs": [],
   "source": [
    "zipped=list(zip(name,varsity))"
   ]
  },
  {
   "cell_type": "code",
   "execution_count": 3,
   "id": "d9be1082",
   "metadata": {},
   "outputs": [
    {
     "data": {
      "text/plain": [
       "[('shakil', 'diu'), ('mesbah', 'aiub'), ('sohan', 'diu')]"
      ]
     },
     "execution_count": 3,
     "metadata": {},
     "output_type": "execute_result"
    }
   ],
   "source": [
    "zipped"
   ]
  },
  {
   "cell_type": "code",
   "execution_count": 4,
   "id": "d71cfafb",
   "metadata": {},
   "outputs": [],
   "source": [
    "zipped=tuple(zip(name,varsity))"
   ]
  },
  {
   "cell_type": "code",
   "execution_count": 5,
   "id": "92d80e53",
   "metadata": {},
   "outputs": [
    {
     "data": {
      "text/plain": [
       "(('shakil', 'diu'), ('mesbah', 'aiub'), ('sohan', 'diu'))"
      ]
     },
     "execution_count": 5,
     "metadata": {},
     "output_type": "execute_result"
    }
   ],
   "source": [
    "zipped"
   ]
  },
  {
   "cell_type": "code",
   "execution_count": 6,
   "id": "3d9b2833",
   "metadata": {},
   "outputs": [],
   "source": [
    "zipped=set(zip(name,varsity))"
   ]
  },
  {
   "cell_type": "code",
   "execution_count": 7,
   "id": "24af4746",
   "metadata": {},
   "outputs": [
    {
     "data": {
      "text/plain": [
       "{('mesbah', 'aiub'), ('shakil', 'diu'), ('sohan', 'diu')}"
      ]
     },
     "execution_count": 7,
     "metadata": {},
     "output_type": "execute_result"
    }
   ],
   "source": [
    "zipped"
   ]
  },
  {
   "cell_type": "code",
   "execution_count": 8,
   "id": "2449fd77",
   "metadata": {},
   "outputs": [],
   "source": [
    "zipped=dict(zip(name,varsity))"
   ]
  },
  {
   "cell_type": "code",
   "execution_count": 9,
   "id": "12e99330",
   "metadata": {},
   "outputs": [
    {
     "data": {
      "text/plain": [
       "{'shakil': 'diu', 'mesbah': 'aiub', 'sohan': 'diu'}"
      ]
     },
     "execution_count": 9,
     "metadata": {},
     "output_type": "execute_result"
    }
   ],
   "source": [
    "zipped"
   ]
  },
  {
   "cell_type": "code",
   "execution_count": 10,
   "id": "9c9f4078",
   "metadata": {},
   "outputs": [
    {
     "data": {
      "text/plain": [
       "dict_keys(['shakil', 'mesbah', 'sohan'])"
      ]
     },
     "execution_count": 10,
     "metadata": {},
     "output_type": "execute_result"
    }
   ],
   "source": [
    "zipped.keys()"
   ]
  },
  {
   "cell_type": "code",
   "execution_count": 11,
   "id": "a2b6d980",
   "metadata": {},
   "outputs": [
    {
     "data": {
      "text/plain": [
       "dict_values(['diu', 'aiub', 'diu'])"
      ]
     },
     "execution_count": 11,
     "metadata": {},
     "output_type": "execute_result"
    }
   ],
   "source": [
    "zipped.values()"
   ]
  },
  {
   "cell_type": "markdown",
   "id": "58f82714",
   "metadata": {},
   "source": [
    "# Unzip"
   ]
  },
  {
   "cell_type": "code",
   "execution_count": 13,
   "id": "2d80f290",
   "metadata": {},
   "outputs": [],
   "source": [
    "zipped=list(zip(name,varsity))"
   ]
  },
  {
   "cell_type": "code",
   "execution_count": 14,
   "id": "af066f56",
   "metadata": {},
   "outputs": [
    {
     "data": {
      "text/plain": [
       "[('shakil', 'diu'), ('mesbah', 'aiub'), ('sohan', 'diu')]"
      ]
     },
     "execution_count": 14,
     "metadata": {},
     "output_type": "execute_result"
    }
   ],
   "source": [
    "zipped"
   ]
  },
  {
   "cell_type": "code",
   "execution_count": 15,
   "id": "df5cc1a1",
   "metadata": {},
   "outputs": [],
   "source": [
    "name1,varsity1=zip(*zipped)"
   ]
  },
  {
   "cell_type": "code",
   "execution_count": 17,
   "id": "5fe26391",
   "metadata": {},
   "outputs": [
    {
     "data": {
      "text/plain": [
       "('shakil', 'mesbah', 'sohan')"
      ]
     },
     "execution_count": 17,
     "metadata": {},
     "output_type": "execute_result"
    }
   ],
   "source": [
    "name1"
   ]
  },
  {
   "cell_type": "code",
   "execution_count": 18,
   "id": "1500bdca",
   "metadata": {},
   "outputs": [
    {
     "data": {
      "text/plain": [
       "('diu', 'aiub', 'diu')"
      ]
     },
     "execution_count": 18,
     "metadata": {},
     "output_type": "execute_result"
    }
   ],
   "source": [
    "varsity1"
   ]
  },
  {
   "cell_type": "code",
   "execution_count": 19,
   "id": "83dbccc0",
   "metadata": {},
   "outputs": [],
   "source": [
    "zipped=list(zip(name,varsity))"
   ]
  },
  {
   "cell_type": "code",
   "execution_count": 20,
   "id": "2ccd8a8e",
   "metadata": {},
   "outputs": [
    {
     "data": {
      "text/plain": [
       "[('shakil', 'diu'), ('mesbah', 'aiub'), ('sohan', 'diu')]"
      ]
     },
     "execution_count": 20,
     "metadata": {},
     "output_type": "execute_result"
    }
   ],
   "source": [
    "zipped"
   ]
  },
  {
   "cell_type": "code",
   "execution_count": 21,
   "id": "39c53fa3",
   "metadata": {},
   "outputs": [],
   "source": [
    "name2,varsity2=zip(*zipped)"
   ]
  },
  {
   "cell_type": "code",
   "execution_count": 22,
   "id": "40393718",
   "metadata": {},
   "outputs": [
    {
     "data": {
      "text/plain": [
       "('shakil', 'mesbah', 'sohan')"
      ]
     },
     "execution_count": 22,
     "metadata": {},
     "output_type": "execute_result"
    }
   ],
   "source": [
    "name2"
   ]
  },
  {
   "cell_type": "code",
   "execution_count": 23,
   "id": "e6517a1c",
   "metadata": {},
   "outputs": [
    {
     "data": {
      "text/plain": [
       "('diu', 'aiub', 'diu')"
      ]
     },
     "execution_count": 23,
     "metadata": {},
     "output_type": "execute_result"
    }
   ],
   "source": [
    "varsity2"
   ]
  },
  {
   "cell_type": "code",
   "execution_count": null,
   "id": "de8996b6",
   "metadata": {},
   "outputs": [],
   "source": []
  }
 ],
 "metadata": {
  "kernelspec": {
   "display_name": "Python 3 (ipykernel)",
   "language": "python",
   "name": "python3"
  },
  "language_info": {
   "codemirror_mode": {
    "name": "ipython",
    "version": 3
   },
   "file_extension": ".py",
   "mimetype": "text/x-python",
   "name": "python",
   "nbconvert_exporter": "python",
   "pygments_lexer": "ipython3",
   "version": "3.11.5"
  }
 },
 "nbformat": 4,
 "nbformat_minor": 5
}
