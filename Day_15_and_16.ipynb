{
 "cells": [
  {
   "cell_type": "markdown",
   "id": "5ade47d2",
   "metadata": {},
   "source": [
    "# Tuple in python"
   ]
  },
  {
   "cell_type": "code",
   "execution_count": 1,
   "id": "160d6af7",
   "metadata": {},
   "outputs": [],
   "source": [
    "thistuple=(1,100,True,'study mart','ai quest','FAU',(1,4,10),[10,15])"
   ]
  },
  {
   "cell_type": "code",
   "execution_count": 3,
   "id": "56446bb1",
   "metadata": {},
   "outputs": [
    {
     "name": "stdout",
     "output_type": "stream",
     "text": [
      "(1, 100, True, 'study mart', 'ai quest', 'FAU', (1, 4, 10), [10, 15])\n"
     ]
    }
   ],
   "source": [
    "print(thistuple)"
   ]
  },
  {
   "cell_type": "code",
   "execution_count": 4,
   "id": "72949769",
   "metadata": {},
   "outputs": [],
   "source": [
    "tup1=()"
   ]
  },
  {
   "cell_type": "code",
   "execution_count": 5,
   "id": "83ac8459",
   "metadata": {},
   "outputs": [
    {
     "data": {
      "text/plain": [
       "tuple"
      ]
     },
     "execution_count": 5,
     "metadata": {},
     "output_type": "execute_result"
    }
   ],
   "source": [
    "type(tup1)"
   ]
  },
  {
   "cell_type": "code",
   "execution_count": 6,
   "id": "93735b25",
   "metadata": {},
   "outputs": [],
   "source": [
    "tup1=('ds','rony mia','nstu',1,2,3,4,6,[10,20,100],True)"
   ]
  },
  {
   "cell_type": "code",
   "execution_count": 8,
   "id": "67bfb341",
   "metadata": {},
   "outputs": [
    {
     "data": {
      "text/plain": [
       "('ds', 'rony mia', 'nstu', 1, 2, 3, 4, 6, [10, 20, 100], True)"
      ]
     },
     "execution_count": 8,
     "metadata": {},
     "output_type": "execute_result"
    }
   ],
   "source": [
    "tup1"
   ]
  },
  {
   "cell_type": "code",
   "execution_count": 9,
   "id": "f6a556a3",
   "metadata": {},
   "outputs": [
    {
     "data": {
      "text/plain": [
       "'rony mia'"
      ]
     },
     "execution_count": 9,
     "metadata": {},
     "output_type": "execute_result"
    }
   ],
   "source": [
    "tup1[1]"
   ]
  },
  {
   "cell_type": "code",
   "execution_count": 10,
   "id": "e515f56e",
   "metadata": {},
   "outputs": [
    {
     "data": {
      "text/plain": [
       "True"
      ]
     },
     "execution_count": 10,
     "metadata": {},
     "output_type": "execute_result"
    }
   ],
   "source": [
    "tup1[-1]"
   ]
  },
  {
   "cell_type": "code",
   "execution_count": 11,
   "id": "b176e9fd",
   "metadata": {},
   "outputs": [
    {
     "data": {
      "text/plain": [
       "('nstu', 1, 2, 3)"
      ]
     },
     "execution_count": 11,
     "metadata": {},
     "output_type": "execute_result"
    }
   ],
   "source": [
    "tup1[2:6]"
   ]
  },
  {
   "cell_type": "code",
   "execution_count": 12,
   "id": "a81fcd65",
   "metadata": {},
   "outputs": [],
   "source": [
    "tup2=['rony mia']"
   ]
  },
  {
   "cell_type": "code",
   "execution_count": 13,
   "id": "42445e90",
   "metadata": {},
   "outputs": [
    {
     "data": {
      "text/plain": [
       "list"
      ]
     },
     "execution_count": 13,
     "metadata": {},
     "output_type": "execute_result"
    }
   ],
   "source": [
    "type(tup2)"
   ]
  },
  {
   "cell_type": "code",
   "execution_count": 14,
   "id": "db00179c",
   "metadata": {},
   "outputs": [],
   "source": [
    "tup2=('Rony Molla')"
   ]
  },
  {
   "cell_type": "code",
   "execution_count": 16,
   "id": "4582f27b",
   "metadata": {},
   "outputs": [
    {
     "data": {
      "text/plain": [
       "str"
      ]
     },
     "execution_count": 16,
     "metadata": {},
     "output_type": "execute_result"
    }
   ],
   "source": [
    "type(tup2)"
   ]
  },
  {
   "cell_type": "code",
   "execution_count": 17,
   "id": "36d2227a",
   "metadata": {},
   "outputs": [],
   "source": [
    "tup2=('Rony Molla',)"
   ]
  },
  {
   "cell_type": "code",
   "execution_count": 18,
   "id": "0f2fa33a",
   "metadata": {},
   "outputs": [
    {
     "data": {
      "text/plain": [
       "tuple"
      ]
     },
     "execution_count": 18,
     "metadata": {},
     "output_type": "execute_result"
    }
   ],
   "source": [
    "type(tup2)"
   ]
  },
  {
   "cell_type": "code",
   "execution_count": 19,
   "id": "02bc2622",
   "metadata": {},
   "outputs": [
    {
     "data": {
      "text/plain": [
       "'Rony Molla'"
      ]
     },
     "execution_count": 19,
     "metadata": {},
     "output_type": "execute_result"
    }
   ],
   "source": [
    "tup2[0]"
   ]
  },
  {
   "cell_type": "code",
   "execution_count": 20,
   "id": "9baa506d",
   "metadata": {},
   "outputs": [
    {
     "data": {
      "text/plain": [
       "'Rony Molla'"
      ]
     },
     "execution_count": 20,
     "metadata": {},
     "output_type": "execute_result"
    }
   ],
   "source": [
    "tup2[-1]"
   ]
  },
  {
   "cell_type": "markdown",
   "id": "ce2c1e2c",
   "metadata": {},
   "source": [
    "# Tuple to List"
   ]
  },
  {
   "cell_type": "code",
   "execution_count": 21,
   "id": "04c5ff4a",
   "metadata": {},
   "outputs": [],
   "source": [
    "l=list(tup2)"
   ]
  },
  {
   "cell_type": "code",
   "execution_count": 23,
   "id": "d5a9d2f7",
   "metadata": {},
   "outputs": [
    {
     "data": {
      "text/plain": [
       "['Rony Molla']"
      ]
     },
     "execution_count": 23,
     "metadata": {},
     "output_type": "execute_result"
    }
   ],
   "source": [
    "l"
   ]
  },
  {
   "cell_type": "code",
   "execution_count": 24,
   "id": "7600e366",
   "metadata": {},
   "outputs": [
    {
     "data": {
      "text/plain": [
       "list"
      ]
     },
     "execution_count": 24,
     "metadata": {},
     "output_type": "execute_result"
    }
   ],
   "source": [
    "\n",
    "type(l)"
   ]
  },
  {
   "cell_type": "code",
   "execution_count": 25,
   "id": "fbf7d526",
   "metadata": {},
   "outputs": [],
   "source": [
    "l.append('NSTU')"
   ]
  },
  {
   "cell_type": "code",
   "execution_count": 26,
   "id": "b31265ce",
   "metadata": {},
   "outputs": [
    {
     "data": {
      "text/plain": [
       "['Rony Molla', 'NSTU']"
      ]
     },
     "execution_count": 26,
     "metadata": {},
     "output_type": "execute_result"
    }
   ],
   "source": [
    "l"
   ]
  },
  {
   "cell_type": "markdown",
   "id": "c7752e31",
   "metadata": {},
   "source": [
    "# List to Tuple"
   ]
  },
  {
   "cell_type": "code",
   "execution_count": 27,
   "id": "4bd55567",
   "metadata": {},
   "outputs": [],
   "source": [
    "tup2=tuple(l)"
   ]
  },
  {
   "cell_type": "code",
   "execution_count": 28,
   "id": "6ea478ef",
   "metadata": {},
   "outputs": [
    {
     "data": {
      "text/plain": [
       "('Rony Molla', 'NSTU')"
      ]
     },
     "execution_count": 28,
     "metadata": {},
     "output_type": "execute_result"
    }
   ],
   "source": [
    "tup2"
   ]
  },
  {
   "cell_type": "code",
   "execution_count": 29,
   "id": "c08e0113",
   "metadata": {},
   "outputs": [
    {
     "data": {
      "text/plain": [
       "tuple"
      ]
     },
     "execution_count": 29,
     "metadata": {},
     "output_type": "execute_result"
    }
   ],
   "source": [
    "type(tup2)"
   ]
  },
  {
   "cell_type": "code",
   "execution_count": 30,
   "id": "67069553",
   "metadata": {},
   "outputs": [
    {
     "data": {
      "text/plain": [
       "('ds', 'rony mia', 'nstu', 1, 2, 3, 4, 6, [10, 20, 100], True)"
      ]
     },
     "execution_count": 30,
     "metadata": {},
     "output_type": "execute_result"
    }
   ],
   "source": [
    "tup1"
   ]
  },
  {
   "cell_type": "code",
   "execution_count": 32,
   "id": "037dd85c",
   "metadata": {},
   "outputs": [],
   "source": [
    "tup1=('ds', 'rony mia', 'nstu', 1, 2, 2,2,3, 4, 6, [10, 20, 100], True)"
   ]
  },
  {
   "cell_type": "code",
   "execution_count": 33,
   "id": "3adfdcc2",
   "metadata": {},
   "outputs": [
    {
     "data": {
      "text/plain": [
       "('ds', 'rony mia', 'nstu', 1, 2, 2, 2, 3, 4, 6, [10, 20, 100], True)"
      ]
     },
     "execution_count": 33,
     "metadata": {},
     "output_type": "execute_result"
    }
   ],
   "source": [
    "tup1"
   ]
  },
  {
   "cell_type": "code",
   "execution_count": 34,
   "id": "b27e4a4d",
   "metadata": {},
   "outputs": [],
   "source": [
    "tup3=tuple([1,2,3,3,4])"
   ]
  },
  {
   "cell_type": "code",
   "execution_count": 35,
   "id": "ca171a75",
   "metadata": {},
   "outputs": [
    {
     "data": {
      "text/plain": [
       "(1, 2, 3, 3, 4)"
      ]
     },
     "execution_count": 35,
     "metadata": {},
     "output_type": "execute_result"
    }
   ],
   "source": [
    "tup3"
   ]
  },
  {
   "cell_type": "code",
   "execution_count": 36,
   "id": "c32767ed",
   "metadata": {},
   "outputs": [],
   "source": [
    "tup4=10,30,70,'rony mia'"
   ]
  },
  {
   "cell_type": "code",
   "execution_count": 37,
   "id": "454bb183",
   "metadata": {},
   "outputs": [
    {
     "data": {
      "text/plain": [
       "(10, 30, 70, 'rony mia')"
      ]
     },
     "execution_count": 37,
     "metadata": {},
     "output_type": "execute_result"
    }
   ],
   "source": [
    "tup4"
   ]
  },
  {
   "cell_type": "code",
   "execution_count": 38,
   "id": "aff0db61",
   "metadata": {},
   "outputs": [
    {
     "data": {
      "text/plain": [
       "tuple"
      ]
     },
     "execution_count": 38,
     "metadata": {},
     "output_type": "execute_result"
    }
   ],
   "source": [
    "type(tup4)"
   ]
  },
  {
   "cell_type": "code",
   "execution_count": 39,
   "id": "30c38efc",
   "metadata": {},
   "outputs": [],
   "source": [
    "tup4='rony mia'"
   ]
  },
  {
   "cell_type": "code",
   "execution_count": 40,
   "id": "11d0745b",
   "metadata": {},
   "outputs": [
    {
     "data": {
      "text/plain": [
       "str"
      ]
     },
     "execution_count": 40,
     "metadata": {},
     "output_type": "execute_result"
    }
   ],
   "source": [
    "type(tup4)"
   ]
  },
  {
   "cell_type": "code",
   "execution_count": 41,
   "id": "b69b9582",
   "metadata": {},
   "outputs": [],
   "source": [
    "tup4='rony mia',"
   ]
  },
  {
   "cell_type": "code",
   "execution_count": 42,
   "id": "13e8bdf4",
   "metadata": {},
   "outputs": [
    {
     "data": {
      "text/plain": [
       "tuple"
      ]
     },
     "execution_count": 42,
     "metadata": {},
     "output_type": "execute_result"
    }
   ],
   "source": [
    "type(tup4)"
   ]
  },
  {
   "cell_type": "markdown",
   "id": "dbe19075",
   "metadata": {},
   "source": [
    "# Concatenation"
   ]
  },
  {
   "cell_type": "code",
   "execution_count": 43,
   "id": "8adee770",
   "metadata": {},
   "outputs": [
    {
     "data": {
      "text/plain": [
       "(1, 2, 3, 3, 4)"
      ]
     },
     "execution_count": 43,
     "metadata": {},
     "output_type": "execute_result"
    }
   ],
   "source": [
    "tup3"
   ]
  },
  {
   "cell_type": "code",
   "execution_count": 44,
   "id": "60b6b3ab",
   "metadata": {},
   "outputs": [
    {
     "data": {
      "text/plain": [
       "('rony mia',)"
      ]
     },
     "execution_count": 44,
     "metadata": {},
     "output_type": "execute_result"
    }
   ],
   "source": [
    "tup4"
   ]
  },
  {
   "cell_type": "code",
   "execution_count": 45,
   "id": "a7669439",
   "metadata": {},
   "outputs": [
    {
     "data": {
      "text/plain": [
       "(1, 2, 3, 3, 4, 'rony mia')"
      ]
     },
     "execution_count": 45,
     "metadata": {},
     "output_type": "execute_result"
    }
   ],
   "source": [
    "tup3+tup4"
   ]
  },
  {
   "cell_type": "code",
   "execution_count": 46,
   "id": "b645b83e",
   "metadata": {},
   "outputs": [
    {
     "data": {
      "text/plain": [
       "(1, 2, 3, 3, 4, 1, 2, 3, 3, 4)"
      ]
     },
     "execution_count": 46,
     "metadata": {},
     "output_type": "execute_result"
    }
   ],
   "source": [
    "tup3*2"
   ]
  },
  {
   "cell_type": "code",
   "execution_count": 47,
   "id": "1be96224",
   "metadata": {},
   "outputs": [
    {
     "data": {
      "text/plain": [
       "(1, 2, 3, 3, 4, 1, 2, 3, 3, 4, 1, 2, 3, 3, 4, 1, 2, 3, 3, 4)"
      ]
     },
     "execution_count": 47,
     "metadata": {},
     "output_type": "execute_result"
    }
   ],
   "source": [
    "tup3*4"
   ]
  },
  {
   "cell_type": "code",
   "execution_count": 48,
   "id": "f263b1aa",
   "metadata": {},
   "outputs": [],
   "source": [
    "tup5=tup3*4"
   ]
  },
  {
   "cell_type": "code",
   "execution_count": 49,
   "id": "58dae7e6",
   "metadata": {},
   "outputs": [
    {
     "data": {
      "text/plain": [
       "(1, 2, 3, 3, 4, 1, 2, 3, 3, 4, 1, 2, 3, 3, 4, 1, 2, 3, 3, 4)"
      ]
     },
     "execution_count": 49,
     "metadata": {},
     "output_type": "execute_result"
    }
   ],
   "source": [
    "tup5"
   ]
  },
  {
   "cell_type": "code",
   "execution_count": 50,
   "id": "1392a4df",
   "metadata": {},
   "outputs": [
    {
     "data": {
      "text/plain": [
       "4"
      ]
     },
     "execution_count": 50,
     "metadata": {},
     "output_type": "execute_result"
    }
   ],
   "source": [
    "tup5.count(4)"
   ]
  },
  {
   "cell_type": "code",
   "execution_count": 51,
   "id": "28dd0c20",
   "metadata": {},
   "outputs": [
    {
     "data": {
      "text/plain": [
       "4"
      ]
     },
     "execution_count": 51,
     "metadata": {},
     "output_type": "execute_result"
    }
   ],
   "source": [
    "tup5.index(4)"
   ]
  },
  {
   "cell_type": "code",
   "execution_count": 52,
   "id": "4461afbd",
   "metadata": {},
   "outputs": [
    {
     "data": {
      "text/plain": [
       "True"
      ]
     },
     "execution_count": 52,
     "metadata": {},
     "output_type": "execute_result"
    }
   ],
   "source": [
    "3 in tup3"
   ]
  },
  {
   "cell_type": "code",
   "execution_count": 53,
   "id": "9d4309f5",
   "metadata": {},
   "outputs": [
    {
     "data": {
      "text/plain": [
       "True"
      ]
     },
     "execution_count": 53,
     "metadata": {},
     "output_type": "execute_result"
    }
   ],
   "source": [
    "'rony mia' in tup4"
   ]
  },
  {
   "cell_type": "code",
   "execution_count": 54,
   "id": "09e2305a",
   "metadata": {},
   "outputs": [
    {
     "data": {
      "text/plain": [
       "False"
      ]
     },
     "execution_count": 54,
     "metadata": {},
     "output_type": "execute_result"
    }
   ],
   "source": [
    "'Reasercher' in tup4"
   ]
  },
  {
   "cell_type": "code",
   "execution_count": 56,
   "id": "1a0f5145",
   "metadata": {},
   "outputs": [],
   "source": [
    "del tup3"
   ]
  },
  {
   "cell_type": "code",
   "execution_count": 58,
   "id": "ff52e8e3",
   "metadata": {},
   "outputs": [
    {
     "data": {
      "text/plain": [
       "('Rony Molla', 'NSTU')"
      ]
     },
     "execution_count": 58,
     "metadata": {},
     "output_type": "execute_result"
    }
   ],
   "source": [
    "tup2"
   ]
  },
  {
   "cell_type": "code",
   "execution_count": 59,
   "id": "fa09caad",
   "metadata": {},
   "outputs": [
    {
     "name": "stdout",
     "output_type": "stream",
     "text": [
      "Rony Molla\n",
      "NSTU\n"
     ]
    }
   ],
   "source": [
    "for i in tup2:\n",
    "    print(i)"
   ]
  },
  {
   "cell_type": "code",
   "execution_count": 60,
   "id": "42257476",
   "metadata": {},
   "outputs": [
    {
     "data": {
      "text/plain": [
       "('ds', 'rony mia', 'nstu', 1, 2, 2, 2, 3, 4, 6, [10, 20, 100], True)"
      ]
     },
     "execution_count": 60,
     "metadata": {},
     "output_type": "execute_result"
    }
   ],
   "source": [
    "tup1"
   ]
  },
  {
   "cell_type": "code",
   "execution_count": 62,
   "id": "e8cbdcc5",
   "metadata": {},
   "outputs": [
    {
     "name": "stdout",
     "output_type": "stream",
     "text": [
      "ds rony mia nstu 1 2 2 2 3 4 6 [10, 20, 100] True "
     ]
    }
   ],
   "source": [
    "for i in tup1:\n",
    "    print(i,end=' ')"
   ]
  },
  {
   "cell_type": "code",
   "execution_count": 63,
   "id": "86e431ad",
   "metadata": {},
   "outputs": [
    {
     "data": {
      "text/plain": [
       "[10, 20, 100]"
      ]
     },
     "execution_count": 63,
     "metadata": {},
     "output_type": "execute_result"
    }
   ],
   "source": [
    "tup1[-2]"
   ]
  },
  {
   "cell_type": "code",
   "execution_count": 64,
   "id": "175f4cc1",
   "metadata": {},
   "outputs": [
    {
     "data": {
      "text/plain": [
       "10"
      ]
     },
     "execution_count": 64,
     "metadata": {},
     "output_type": "execute_result"
    }
   ],
   "source": [
    "tup1[-2][0]"
   ]
  },
  {
   "cell_type": "code",
   "execution_count": null,
   "id": "d5c4e08a",
   "metadata": {},
   "outputs": [],
   "source": []
  }
 ],
 "metadata": {
  "kernelspec": {
   "display_name": "Python 3 (ipykernel)",
   "language": "python",
   "name": "python3"
  },
  "language_info": {
   "codemirror_mode": {
    "name": "ipython",
    "version": 3
   },
   "file_extension": ".py",
   "mimetype": "text/x-python",
   "name": "python",
   "nbconvert_exporter": "python",
   "pygments_lexer": "ipython3",
   "version": "3.11.5"
  }
 },
 "nbformat": 4,
 "nbformat_minor": 5
}
