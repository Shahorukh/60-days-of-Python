{
 "cells": [
  {
   "cell_type": "markdown",
   "id": "6c90dafa",
   "metadata": {},
   "source": [
    "# args and Keyword agruments"
   ]
  },
  {
   "cell_type": "markdown",
   "id": "82d13727",
   "metadata": {},
   "source": [
    "## Keyword variable - length argument(**kwargs)"
   ]
  },
  {
   "cell_type": "code",
   "execution_count": 1,
   "id": "a8a61c87",
   "metadata": {},
   "outputs": [],
   "source": [
    "def personal_data (name,*arg):\n",
    "    print(name)\n",
    "    print(arg)"
   ]
  },
  {
   "cell_type": "code",
   "execution_count": 2,
   "id": "90b8985c",
   "metadata": {},
   "outputs": [
    {
     "name": "stdout",
     "output_type": "stream",
     "text": [
      "SRK Safa\n",
      "('SUST', 'MAT')\n"
     ]
    }
   ],
   "source": [
    "personal_data('SRK Safa','SUST','MAT')"
   ]
  },
  {
   "cell_type": "code",
   "execution_count": 4,
   "id": "80d87abc",
   "metadata": {},
   "outputs": [
    {
     "name": "stdout",
     "output_type": "stream",
     "text": [
      "SUST\n",
      "('SRK Safa', 'MAT')\n"
     ]
    }
   ],
   "source": [
    "personal_data('SUST','SRK Safa','MAT')"
   ]
  },
  {
   "cell_type": "code",
   "execution_count": 5,
   "id": "e049b4ad",
   "metadata": {},
   "outputs": [],
   "source": [
    "def personal_data(name,**arg):\n",
    "    print(name)\n",
    "    print(arg)"
   ]
  },
  {
   "cell_type": "code",
   "execution_count": 6,
   "id": "ce760691",
   "metadata": {},
   "outputs": [
    {
     "name": "stdout",
     "output_type": "stream",
     "text": [
      "SRK Safa\n",
      "{'Varsity': 'SUST', 'Dept': 'MAT'}\n"
     ]
    }
   ],
   "source": [
    "personal_data('SRK Safa',Varsity='SUST',Dept='MAT')"
   ]
  },
  {
   "cell_type": "code",
   "execution_count": null,
   "id": "60b1ca53",
   "metadata": {},
   "outputs": [],
   "source": []
  }
 ],
 "metadata": {
  "kernelspec": {
   "display_name": "Python 3 (ipykernel)",
   "language": "python",
   "name": "python3"
  },
  "language_info": {
   "codemirror_mode": {
    "name": "ipython",
    "version": 3
   },
   "file_extension": ".py",
   "mimetype": "text/x-python",
   "name": "python",
   "nbconvert_exporter": "python",
   "pygments_lexer": "ipython3",
   "version": "3.11.5"
  }
 },
 "nbformat": 4,
 "nbformat_minor": 5
}
