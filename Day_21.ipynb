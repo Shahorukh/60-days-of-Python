{
 "cells": [
  {
   "cell_type": "code",
   "execution_count": 1,
   "id": "4764164a",
   "metadata": {},
   "outputs": [],
   "source": [
    "dic={\n",
    "    'name':'safa',\n",
    "    'varsity':'sust'\n",
    "    \n",
    "}"
   ]
  },
  {
   "cell_type": "code",
   "execution_count": 2,
   "id": "acfccfdc",
   "metadata": {},
   "outputs": [
    {
     "data": {
      "text/plain": [
       "{'name': 'safa', 'varsity': 'sust'}"
      ]
     },
     "execution_count": 2,
     "metadata": {},
     "output_type": "execute_result"
    }
   ],
   "source": [
    "dic"
   ]
  },
  {
   "cell_type": "code",
   "execution_count": 3,
   "id": "63b9872d",
   "metadata": {},
   "outputs": [
    {
     "data": {
      "text/plain": [
       "dict_keys(['name', 'varsity'])"
      ]
     },
     "execution_count": 3,
     "metadata": {},
     "output_type": "execute_result"
    }
   ],
   "source": [
    "dic.keys()"
   ]
  },
  {
   "cell_type": "code",
   "execution_count": 4,
   "id": "a9bb866e",
   "metadata": {},
   "outputs": [
    {
     "data": {
      "text/plain": [
       "dict_values(['safa', 'sust'])"
      ]
     },
     "execution_count": 4,
     "metadata": {},
     "output_type": "execute_result"
    }
   ],
   "source": [
    "dic.values()"
   ]
  },
  {
   "cell_type": "code",
   "execution_count": 5,
   "id": "8ff21e65",
   "metadata": {},
   "outputs": [
    {
     "data": {
      "text/plain": [
       "dict"
      ]
     },
     "execution_count": 5,
     "metadata": {},
     "output_type": "execute_result"
    }
   ],
   "source": [
    "type(dic)"
   ]
  },
  {
   "cell_type": "code",
   "execution_count": 6,
   "id": "4065a0ec",
   "metadata": {},
   "outputs": [],
   "source": [
    "dic2=dic.copy()"
   ]
  },
  {
   "cell_type": "code",
   "execution_count": 7,
   "id": "0a817fe8",
   "metadata": {},
   "outputs": [
    {
     "data": {
      "text/plain": [
       "{'name': 'safa', 'varsity': 'sust'}"
      ]
     },
     "execution_count": 7,
     "metadata": {},
     "output_type": "execute_result"
    }
   ],
   "source": [
    "dic2"
   ]
  },
  {
   "cell_type": "code",
   "execution_count": 10,
   "id": "66caf754",
   "metadata": {},
   "outputs": [],
   "source": [
    "dic2['varsity']='SUST'"
   ]
  },
  {
   "cell_type": "code",
   "execution_count": 11,
   "id": "ee08b2d4",
   "metadata": {},
   "outputs": [
    {
     "data": {
      "text/plain": [
       "{'name': 'safa', 'varsity': 'SUST'}"
      ]
     },
     "execution_count": 11,
     "metadata": {},
     "output_type": "execute_result"
    }
   ],
   "source": [
    "dic2"
   ]
  },
  {
   "cell_type": "code",
   "execution_count": 12,
   "id": "ae3eed0e",
   "metadata": {},
   "outputs": [],
   "source": [
    "dic['Dept']='Mat'"
   ]
  },
  {
   "cell_type": "code",
   "execution_count": 13,
   "id": "66f2f2eb",
   "metadata": {},
   "outputs": [
    {
     "data": {
      "text/plain": [
       "{'name': 'safa', 'varsity': 'sust', 'Dept': 'Mat'}"
      ]
     },
     "execution_count": 13,
     "metadata": {},
     "output_type": "execute_result"
    }
   ],
   "source": [
    "dic"
   ]
  },
  {
   "cell_type": "code",
   "execution_count": 14,
   "id": "8309c596",
   "metadata": {},
   "outputs": [],
   "source": [
    "dic.update({'Dept':'DS'})"
   ]
  },
  {
   "cell_type": "code",
   "execution_count": 15,
   "id": "b46f9258",
   "metadata": {},
   "outputs": [
    {
     "data": {
      "text/plain": [
       "{'name': 'safa', 'varsity': 'sust', 'Dept': 'DS'}"
      ]
     },
     "execution_count": 15,
     "metadata": {},
     "output_type": "execute_result"
    }
   ],
   "source": [
    "dic"
   ]
  },
  {
   "cell_type": "code",
   "execution_count": 16,
   "id": "736d8d3f",
   "metadata": {},
   "outputs": [
    {
     "data": {
      "text/plain": [
       "('Dept', 'DS')"
      ]
     },
     "execution_count": 16,
     "metadata": {},
     "output_type": "execute_result"
    }
   ],
   "source": [
    "dic.popitem()"
   ]
  },
  {
   "cell_type": "code",
   "execution_count": 17,
   "id": "c72a231b",
   "metadata": {},
   "outputs": [
    {
     "data": {
      "text/plain": [
       "'sust'"
      ]
     },
     "execution_count": 17,
     "metadata": {},
     "output_type": "execute_result"
    }
   ],
   "source": [
    "dic.pop('varsity')"
   ]
  },
  {
   "cell_type": "code",
   "execution_count": 18,
   "id": "201b0b3b",
   "metadata": {},
   "outputs": [
    {
     "data": {
      "text/plain": [
       "{'name': 'safa'}"
      ]
     },
     "execution_count": 18,
     "metadata": {},
     "output_type": "execute_result"
    }
   ],
   "source": [
    "dic"
   ]
  },
  {
   "cell_type": "code",
   "execution_count": 19,
   "id": "f4d76af4",
   "metadata": {},
   "outputs": [],
   "source": [
    "del dic['name']"
   ]
  },
  {
   "cell_type": "code",
   "execution_count": 20,
   "id": "ab3c42f8",
   "metadata": {},
   "outputs": [
    {
     "data": {
      "text/plain": [
       "{}"
      ]
     },
     "execution_count": 20,
     "metadata": {},
     "output_type": "execute_result"
    }
   ],
   "source": [
    "dic"
   ]
  },
  {
   "cell_type": "code",
   "execution_count": 21,
   "id": "9df0e96c",
   "metadata": {},
   "outputs": [],
   "source": [
    "dic2['dep2']='ai'"
   ]
  },
  {
   "cell_type": "code",
   "execution_count": 22,
   "id": "8bd9e68a",
   "metadata": {},
   "outputs": [
    {
     "data": {
      "text/plain": [
       "{'name': 'safa', 'varsity': 'SUST', 'dep2': 'ai'}"
      ]
     },
     "execution_count": 22,
     "metadata": {},
     "output_type": "execute_result"
    }
   ],
   "source": [
    "dic2"
   ]
  },
  {
   "cell_type": "code",
   "execution_count": 24,
   "id": "a0a2da6e",
   "metadata": {},
   "outputs": [
    {
     "name": "stdout",
     "output_type": "stream",
     "text": [
      "name\n",
      "varsity\n",
      "dep2\n"
     ]
    }
   ],
   "source": [
    "for x in dic2:\n",
    "    print(x)"
   ]
  },
  {
   "cell_type": "code",
   "execution_count": 25,
   "id": "28c65ed5",
   "metadata": {},
   "outputs": [
    {
     "name": "stdout",
     "output_type": "stream",
     "text": [
      "safa\n",
      "SUST\n",
      "ai\n"
     ]
    }
   ],
   "source": [
    "for x in dic2:\n",
    "    print(dic2[x])"
   ]
  },
  {
   "cell_type": "code",
   "execution_count": 26,
   "id": "ebd4d3c9",
   "metadata": {},
   "outputs": [],
   "source": [
    "l1=list(dic2.keys())"
   ]
  },
  {
   "cell_type": "code",
   "execution_count": 27,
   "id": "d94aaad9",
   "metadata": {},
   "outputs": [
    {
     "data": {
      "text/plain": [
       "['name', 'varsity', 'dep2']"
      ]
     },
     "execution_count": 27,
     "metadata": {},
     "output_type": "execute_result"
    }
   ],
   "source": [
    "l1"
   ]
  },
  {
   "cell_type": "code",
   "execution_count": 28,
   "id": "3438b20a",
   "metadata": {},
   "outputs": [],
   "source": [
    "l2=list(dic2.values())"
   ]
  },
  {
   "cell_type": "code",
   "execution_count": 29,
   "id": "eadc3d1e",
   "metadata": {},
   "outputs": [
    {
     "data": {
      "text/plain": [
       "['safa', 'SUST', 'ai']"
      ]
     },
     "execution_count": 29,
     "metadata": {},
     "output_type": "execute_result"
    }
   ],
   "source": [
    "l2"
   ]
  },
  {
   "cell_type": "code",
   "execution_count": 33,
   "id": "9e2aef02",
   "metadata": {},
   "outputs": [
    {
     "name": "stdout",
     "output_type": "stream",
     "text": [
      "3\n",
      "name\n",
      "safa\n",
      "varsity\n",
      "sust\n",
      "dept\n",
      "mat\n",
      "{'name': 'safa', 'varsity': 'sust', 'dept': 'mat'}\n"
     ]
    }
   ],
   "source": [
    "n=int(input())\n",
    "d={}\n",
    "for i in range(n):\n",
    "    key=input()\n",
    "    value=input()\n",
    "    d[key]=value\n",
    "print(d)"
   ]
  },
  {
   "cell_type": "code",
   "execution_count": null,
   "id": "3425cae9",
   "metadata": {},
   "outputs": [],
   "source": []
  }
 ],
 "metadata": {
  "kernelspec": {
   "display_name": "Python 3 (ipykernel)",
   "language": "python",
   "name": "python3"
  },
  "language_info": {
   "codemirror_mode": {
    "name": "ipython",
    "version": 3
   },
   "file_extension": ".py",
   "mimetype": "text/x-python",
   "name": "python",
   "nbconvert_exporter": "python",
   "pygments_lexer": "ipython3",
   "version": "3.11.5"
  }
 },
 "nbformat": 4,
 "nbformat_minor": 5
}
