{
 "cells": [
  {
   "cell_type": "markdown",
   "id": "b461d0a8",
   "metadata": {},
   "source": [
    "# Python function recursion\n",
    "# Recursive function"
   ]
  },
  {
   "cell_type": "code",
   "execution_count": 1,
   "id": "4810325c",
   "metadata": {},
   "outputs": [],
   "source": [
    "def facto (x):\n",
    "    if x==0:\n",
    "        return 1\n",
    "    return x*facto(x-1)"
   ]
  },
  {
   "cell_type": "code",
   "execution_count": 2,
   "id": "95c0e080",
   "metadata": {},
   "outputs": [
    {
     "data": {
      "text/plain": [
       "120"
      ]
     },
     "execution_count": 2,
     "metadata": {},
     "output_type": "execute_result"
    }
   ],
   "source": [
    "facto(5)"
   ]
  },
  {
   "cell_type": "code",
   "execution_count": 3,
   "id": "55e732c4",
   "metadata": {},
   "outputs": [],
   "source": [
    "def web():\n",
    "    print('aiquest.org')\n",
    "    "
   ]
  },
  {
   "cell_type": "code",
   "execution_count": 4,
   "id": "4a5c4e2b",
   "metadata": {},
   "outputs": [
    {
     "name": "stdout",
     "output_type": "stream",
     "text": [
      "aiquest.org\n"
     ]
    }
   ],
   "source": [
    "web()"
   ]
  },
  {
   "cell_type": "code",
   "execution_count": 7,
   "id": "10ebcdc4",
   "metadata": {},
   "outputs": [
    {
     "name": "stdout",
     "output_type": "stream",
     "text": [
      "Unexpected exception formatting exception. Falling back to standard exception\n",
      "ERROR! Session/line number was not unique in database. History logging moved to new session 234\n"
     ]
    }
   ],
   "source": [
    "def web():\n",
    "    print('aiquest.org')\n",
    "    web()\n",
    "#web()"
   ]
  },
  {
   "cell_type": "code",
   "execution_count": 6,
   "id": "10af0601",
   "metadata": {},
   "outputs": [
    {
     "data": {
      "text/plain": [
       "3000"
      ]
     },
     "execution_count": 6,
     "metadata": {},
     "output_type": "execute_result"
    }
   ],
   "source": [
    "import sys \n",
    "sys.getrecursionlimit()"
   ]
  }
 ],
 "metadata": {
  "kernelspec": {
   "display_name": "Python 3 (ipykernel)",
   "language": "python",
   "name": "python3"
  },
  "language_info": {
   "codemirror_mode": {
    "name": "ipython",
    "version": 3
   },
   "file_extension": ".py",
   "mimetype": "text/x-python",
   "name": "python",
   "nbconvert_exporter": "python",
   "pygments_lexer": "ipython3",
   "version": "3.11.5"
  }
 },
 "nbformat": 4,
 "nbformat_minor": 5
}
