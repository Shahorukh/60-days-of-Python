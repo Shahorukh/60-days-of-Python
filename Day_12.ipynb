{
 "cells": [
  {
   "cell_type": "markdown",
   "id": "ff15cea6",
   "metadata": {},
   "source": [
    "# Python Data Structures"
   ]
  },
  {
   "cell_type": "code",
   "execution_count": 1,
   "id": "19bcbabc",
   "metadata": {},
   "outputs": [],
   "source": [
    "list1=['ai','data science','ai quest','ml',2023,True,(1,2,3),{2,3,4}]"
   ]
  },
  {
   "cell_type": "code",
   "execution_count": 2,
   "id": "29d1d6f1",
   "metadata": {},
   "outputs": [
    {
     "data": {
      "text/plain": [
       "['ai', 'data science', 'ai quest', 'ml', 2023, True, (1, 2, 3), {2, 3, 4}]"
      ]
     },
     "execution_count": 2,
     "metadata": {},
     "output_type": "execute_result"
    }
   ],
   "source": [
    "list1"
   ]
  },
  {
   "cell_type": "code",
   "execution_count": 3,
   "id": "2e56a334",
   "metadata": {},
   "outputs": [
    {
     "name": "stdout",
     "output_type": "stream",
     "text": [
      "['ai', 'data science', 'ai quest', 'ml', 2023, True, (1, 2, 3), {2, 3, 4}]\n"
     ]
    }
   ],
   "source": [
    "print(list1)"
   ]
  },
  {
   "cell_type": "code",
   "execution_count": 4,
   "id": "d6f131ff",
   "metadata": {},
   "outputs": [],
   "source": [
    "l1=[2,5,8,10]"
   ]
  },
  {
   "cell_type": "code",
   "execution_count": 5,
   "id": "93009043",
   "metadata": {},
   "outputs": [
    {
     "data": {
      "text/plain": [
       "list"
      ]
     },
     "execution_count": 5,
     "metadata": {},
     "output_type": "execute_result"
    }
   ],
   "source": [
    "type(l1)"
   ]
  },
  {
   "cell_type": "code",
   "execution_count": 6,
   "id": "eb8138b5",
   "metadata": {},
   "outputs": [
    {
     "data": {
      "text/plain": [
       "2"
      ]
     },
     "execution_count": 6,
     "metadata": {},
     "output_type": "execute_result"
    }
   ],
   "source": [
    "l1[0]"
   ]
  },
  {
   "cell_type": "code",
   "execution_count": 7,
   "id": "d98d4139",
   "metadata": {},
   "outputs": [
    {
     "data": {
      "text/plain": [
       "10"
      ]
     },
     "execution_count": 7,
     "metadata": {},
     "output_type": "execute_result"
    }
   ],
   "source": [
    "l1[-1]"
   ]
  },
  {
   "cell_type": "code",
   "execution_count": 8,
   "id": "b5cb4cb7",
   "metadata": {},
   "outputs": [
    {
     "data": {
      "text/plain": [
       "[2, 5]"
      ]
     },
     "execution_count": 8,
     "metadata": {},
     "output_type": "execute_result"
    }
   ],
   "source": [
    "l1[0:2]"
   ]
  },
  {
   "cell_type": "code",
   "execution_count": 9,
   "id": "54163b1f",
   "metadata": {},
   "outputs": [
    {
     "data": {
      "text/plain": [
       "[2, 5, 8]"
      ]
     },
     "execution_count": 9,
     "metadata": {},
     "output_type": "execute_result"
    }
   ],
   "source": [
    "l1[0:3]"
   ]
  },
  {
   "cell_type": "code",
   "execution_count": 10,
   "id": "6eb4c379",
   "metadata": {},
   "outputs": [],
   "source": [
    "l1[0]='ai quest'"
   ]
  },
  {
   "cell_type": "code",
   "execution_count": 11,
   "id": "2801b025",
   "metadata": {},
   "outputs": [
    {
     "data": {
      "text/plain": [
       "['ai quest', 5, 8, 10]"
      ]
     },
     "execution_count": 11,
     "metadata": {},
     "output_type": "execute_result"
    }
   ],
   "source": [
    "l1"
   ]
  },
  {
   "cell_type": "code",
   "execution_count": 12,
   "id": "46285786",
   "metadata": {},
   "outputs": [],
   "source": [
    "l1.append('study mart')"
   ]
  },
  {
   "cell_type": "code",
   "execution_count": 13,
   "id": "96ee1db9",
   "metadata": {},
   "outputs": [
    {
     "data": {
      "text/plain": [
       "['ai quest', 5, 8, 10, 'study mart']"
      ]
     },
     "execution_count": 13,
     "metadata": {},
     "output_type": "execute_result"
    }
   ],
   "source": [
    "l1"
   ]
  },
  {
   "cell_type": "code",
   "execution_count": 14,
   "id": "24869bac",
   "metadata": {},
   "outputs": [],
   "source": [
    "l1.append(5)"
   ]
  },
  {
   "cell_type": "code",
   "execution_count": 15,
   "id": "14cc50b6",
   "metadata": {},
   "outputs": [
    {
     "data": {
      "text/plain": [
       "['ai quest', 5, 8, 10, 'study mart', 5]"
      ]
     },
     "execution_count": 15,
     "metadata": {},
     "output_type": "execute_result"
    }
   ],
   "source": [
    "l1"
   ]
  },
  {
   "cell_type": "code",
   "execution_count": 16,
   "id": "4c1a4ae9",
   "metadata": {},
   "outputs": [
    {
     "data": {
      "text/plain": [
       "120"
      ]
     },
     "execution_count": 16,
     "metadata": {},
     "output_type": "execute_result"
    }
   ],
   "source": [
    "import sys\n",
    "sys.getsizeof(l1)"
   ]
  },
  {
   "cell_type": "code",
   "execution_count": 17,
   "id": "9fed6956",
   "metadata": {},
   "outputs": [
    {
     "data": {
      "text/plain": [
       "['ai quest', 5, 8, 10, 'study mart', 5]"
      ]
     },
     "execution_count": 17,
     "metadata": {},
     "output_type": "execute_result"
    }
   ],
   "source": [
    "l1"
   ]
  },
  {
   "cell_type": "code",
   "execution_count": 18,
   "id": "a2cb2212",
   "metadata": {},
   "outputs": [
    {
     "data": {
      "text/plain": [
       "5"
      ]
     },
     "execution_count": 18,
     "metadata": {},
     "output_type": "execute_result"
    }
   ],
   "source": [
    "l1.pop()"
   ]
  },
  {
   "cell_type": "code",
   "execution_count": 19,
   "id": "224473e4",
   "metadata": {},
   "outputs": [
    {
     "data": {
      "text/plain": [
       "['ai quest', 5, 8, 10, 'study mart']"
      ]
     },
     "execution_count": 19,
     "metadata": {},
     "output_type": "execute_result"
    }
   ],
   "source": [
    "l1"
   ]
  },
  {
   "cell_type": "code",
   "execution_count": 20,
   "id": "cd4f05c8",
   "metadata": {},
   "outputs": [
    {
     "data": {
      "text/plain": [
       "'study mart'"
      ]
     },
     "execution_count": 20,
     "metadata": {},
     "output_type": "execute_result"
    }
   ],
   "source": [
    "l1.pop()"
   ]
  },
  {
   "cell_type": "code",
   "execution_count": 21,
   "id": "123e4073",
   "metadata": {},
   "outputs": [
    {
     "data": {
      "text/plain": [
       "'ai quest'"
      ]
     },
     "execution_count": 21,
     "metadata": {},
     "output_type": "execute_result"
    }
   ],
   "source": [
    "l1.pop(0)"
   ]
  },
  {
   "cell_type": "markdown",
   "id": "53e70eb0",
   "metadata": {},
   "source": [
    "# Creating  list using list constructor"
   ]
  },
  {
   "cell_type": "code",
   "execution_count": 22,
   "id": "9a46cf1c",
   "metadata": {},
   "outputs": [],
   "source": [
    "l2=list(('ai',12,(1,2,3,4)))"
   ]
  },
  {
   "cell_type": "code",
   "execution_count": 23,
   "id": "43983916",
   "metadata": {},
   "outputs": [
    {
     "data": {
      "text/plain": [
       "['ai', 12, (1, 2, 3, 4)]"
      ]
     },
     "execution_count": 23,
     "metadata": {},
     "output_type": "execute_result"
    }
   ],
   "source": [
    "l2"
   ]
  },
  {
   "cell_type": "markdown",
   "id": "337d448d",
   "metadata": {},
   "source": [
    "# input list from user"
   ]
  },
  {
   "cell_type": "code",
   "execution_count": null,
   "id": "43270a69",
   "metadata": {},
   "outputs": [],
   "source": [
    "l3=[]\n",
    "n=int(input('Enter the number of index: '))\n",
    "for i in range(n):\n",
    "    new=input()\n",
    "    l3.append(new)\n",
    "    print(l3)"
   ]
  },
  {
   "cell_type": "code",
   "execution_count": null,
   "id": "c07d49a4",
   "metadata": {},
   "outputs": [],
   "source": []
  },
  {
   "cell_type": "code",
   "execution_count": null,
   "id": "1f5efbe8",
   "metadata": {},
   "outputs": [],
   "source": []
  }
 ],
 "metadata": {
  "kernelspec": {
   "display_name": "Python 3 (ipykernel)",
   "language": "python",
   "name": "python3"
  },
  "language_info": {
   "codemirror_mode": {
    "name": "ipython",
    "version": 3
   },
   "file_extension": ".py",
   "mimetype": "text/x-python",
   "name": "python",
   "nbconvert_exporter": "python",
   "pygments_lexer": "ipython3",
   "version": "3.11.5"
  }
 },
 "nbformat": 4,
 "nbformat_minor": 5
}
