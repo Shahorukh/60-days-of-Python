{
 "cells": [
  {
   "cell_type": "markdown",
   "id": "e8085879",
   "metadata": {},
   "source": [
    "# More about return function"
   ]
  },
  {
   "cell_type": "code",
   "execution_count": 1,
   "id": "08a90b7a",
   "metadata": {},
   "outputs": [],
   "source": [
    "def usr_inp ():\n",
    "    x1=int(input())\n",
    "    x2=int(input())\n",
    "    y1=int(input())\n",
    "    y2=int(input())\n",
    "    return x1,x2"
   ]
  },
  {
   "cell_type": "code",
   "execution_count": 2,
   "id": "d999a014",
   "metadata": {},
   "outputs": [
    {
     "name": "stdout",
     "output_type": "stream",
     "text": [
      "10\n",
      "20\n",
      "30\n",
      "40\n"
     ]
    },
    {
     "data": {
      "text/plain": [
       "(10, 20)"
      ]
     },
     "execution_count": 2,
     "metadata": {},
     "output_type": "execute_result"
    }
   ],
   "source": [
    "usr_inp()"
   ]
  },
  {
   "cell_type": "code",
   "execution_count": 3,
   "id": "01d06fa6",
   "metadata": {},
   "outputs": [],
   "source": [
    "def usr_inp ():\n",
    "    x1=int(input())\n",
    "    x2=int(input())\n",
    "    y1=int(input())\n",
    "    y2=int(input())\n",
    "    return x1,y1,x2,y2"
   ]
  },
  {
   "cell_type": "code",
   "execution_count": 4,
   "id": "9a2e62d4",
   "metadata": {},
   "outputs": [
    {
     "name": "stdout",
     "output_type": "stream",
     "text": [
      "10\n",
      "20\n",
      "30\n",
      "40\n"
     ]
    },
    {
     "data": {
      "text/plain": [
       "(10, 30, 20, 40)"
      ]
     },
     "execution_count": 4,
     "metadata": {},
     "output_type": "execute_result"
    }
   ],
   "source": [
    "usr_inp()"
   ]
  },
  {
   "cell_type": "code",
   "execution_count": 5,
   "id": "6855df73",
   "metadata": {},
   "outputs": [],
   "source": [
    "def usr_inp ():\n",
    "    x1=int(input())\n",
    "    x2=int(input())\n",
    "    y1=int(input())\n",
    "    y2=int(input())\n",
    "    return (x1,y1),(x2,y2)"
   ]
  },
  {
   "cell_type": "code",
   "execution_count": 6,
   "id": "97d79baf",
   "metadata": {},
   "outputs": [
    {
     "name": "stdout",
     "output_type": "stream",
     "text": [
      "1\n",
      "2\n",
      "3\n",
      "4\n"
     ]
    },
    {
     "data": {
      "text/plain": [
       "((1, 3), (2, 4))"
      ]
     },
     "execution_count": 6,
     "metadata": {},
     "output_type": "execute_result"
    }
   ],
   "source": [
    "usr_inp()"
   ]
  },
  {
   "cell_type": "code",
   "execution_count": 7,
   "id": "c81c79ad",
   "metadata": {},
   "outputs": [],
   "source": [
    "def usr_inp ():\n",
    "    x1=int(input())\n",
    "    x2=int(input())\n",
    "    y1=int(input())\n",
    "    y2=int(input())\n",
    "    return (x1,y1),(x2,y2)"
   ]
  },
  {
   "cell_type": "code",
   "execution_count": 8,
   "id": "7d699646",
   "metadata": {},
   "outputs": [
    {
     "name": "stdout",
     "output_type": "stream",
     "text": [
      "1\n",
      "2\n",
      "3\n",
      "4\n"
     ]
    }
   ],
   "source": [
    "r1,r2=usr_inp()"
   ]
  },
  {
   "cell_type": "code",
   "execution_count": 9,
   "id": "d1afa64b",
   "metadata": {},
   "outputs": [
    {
     "data": {
      "text/plain": [
       "(1, 3)"
      ]
     },
     "execution_count": 9,
     "metadata": {},
     "output_type": "execute_result"
    }
   ],
   "source": [
    "r1"
   ]
  },
  {
   "cell_type": "code",
   "execution_count": 10,
   "id": "25061cf0",
   "metadata": {},
   "outputs": [
    {
     "data": {
      "text/plain": [
       "(2, 4)"
      ]
     },
     "execution_count": 10,
     "metadata": {},
     "output_type": "execute_result"
    }
   ],
   "source": [
    "r2"
   ]
  },
  {
   "cell_type": "code",
   "execution_count": 11,
   "id": "3dce6888",
   "metadata": {},
   "outputs": [
    {
     "data": {
      "text/plain": [
       "((1, 3), (2, 4))"
      ]
     },
     "execution_count": 11,
     "metadata": {},
     "output_type": "execute_result"
    }
   ],
   "source": [
    "r1,r2"
   ]
  },
  {
   "cell_type": "code",
   "execution_count": 12,
   "id": "59b7bb32",
   "metadata": {},
   "outputs": [],
   "source": [
    "def usr_inp ():\n",
    "    x1=int(input())\n",
    "    x2=int(input())\n",
    "    y1=int(input())\n",
    "    y2=int(input())\n",
    "    return (x1,y1),(x2,y2)"
   ]
  },
  {
   "cell_type": "code",
   "execution_count": 13,
   "id": "a3961d08",
   "metadata": {},
   "outputs": [
    {
     "name": "stdout",
     "output_type": "stream",
     "text": [
      "1\n",
      "2\n",
      "3\n",
      "4\n"
     ]
    }
   ],
   "source": [
    "r1,_=usr_inp()"
   ]
  },
  {
   "cell_type": "markdown",
   "id": "798f8e34",
   "metadata": {},
   "source": [
    "r1"
   ]
  },
  {
   "cell_type": "code",
   "execution_count": 14,
   "id": "97609c1f",
   "metadata": {},
   "outputs": [
    {
     "data": {
      "text/plain": [
       "(1, 3)"
      ]
     },
     "execution_count": 14,
     "metadata": {},
     "output_type": "execute_result"
    }
   ],
   "source": [
    "r1"
   ]
  },
  {
   "cell_type": "code",
   "execution_count": 20,
   "id": "10ef76c0",
   "metadata": {},
   "outputs": [],
   "source": [
    "def sq_cub(x):\n",
    "    sq=x**2\n",
    "    cube=x**3\n",
    "    return sq,cube"
   ]
  },
  {
   "cell_type": "code",
   "execution_count": 21,
   "id": "3cb41c4a",
   "metadata": {},
   "outputs": [
    {
     "data": {
      "text/plain": [
       "(4, 8)"
      ]
     },
     "execution_count": 21,
     "metadata": {},
     "output_type": "execute_result"
    }
   ],
   "source": [
    "sq_cub(2)"
   ]
  },
  {
   "cell_type": "code",
   "execution_count": 22,
   "id": "fa1c8a2e",
   "metadata": {},
   "outputs": [
    {
     "data": {
      "text/plain": [
       "(100, 1000)"
      ]
     },
     "execution_count": 22,
     "metadata": {},
     "output_type": "execute_result"
    }
   ],
   "source": [
    "sq_cub(10)"
   ]
  }
 ],
 "metadata": {
  "kernelspec": {
   "display_name": "Python 3 (ipykernel)",
   "language": "python",
   "name": "python3"
  },
  "language_info": {
   "codemirror_mode": {
    "name": "ipython",
    "version": 3
   },
   "file_extension": ".py",
   "mimetype": "text/x-python",
   "name": "python",
   "nbconvert_exporter": "python",
   "pygments_lexer": "ipython3",
   "version": "3.11.5"
  }
 },
 "nbformat": 4,
 "nbformat_minor": 5
}
