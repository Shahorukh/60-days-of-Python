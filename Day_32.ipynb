{
 "cells": [
  {
   "cell_type": "markdown",
   "id": "966d8740",
   "metadata": {},
   "source": [
    "# List manipulation in Pyhton\n"
   ]
  },
  {
   "cell_type": "code",
   "execution_count": 8,
   "id": "5cb17f06",
   "metadata": {},
   "outputs": [],
   "source": [
    "def remove_duplicate(input_list):\n",
    "    unique_list=[]\n",
    "    for i in input_list:\n",
    "        if i not in unique_list:\n",
    "             unique_list.append(i)\n",
    "    return unique_list"
   ]
  },
  {
   "cell_type": "code",
   "execution_count": 9,
   "id": "832880e6",
   "metadata": {},
   "outputs": [
    {
     "data": {
      "text/plain": [
       "[1, 2, 3, 4, 5]"
      ]
     },
     "execution_count": 9,
     "metadata": {},
     "output_type": "execute_result"
    }
   ],
   "source": [
    "remove_duplicate([1,2,1,3,2,3,4,3,5])"
   ]
  },
  {
   "cell_type": "code",
   "execution_count": 10,
   "id": "ce97ee86",
   "metadata": {},
   "outputs": [],
   "source": [
    "input_list=[1,2,1,3,2,3,4,3,5]"
   ]
  },
  {
   "cell_type": "code",
   "execution_count": 11,
   "id": "437fdecd",
   "metadata": {},
   "outputs": [
    {
     "data": {
      "text/plain": [
       "[1, 2, 3, 4, 5]"
      ]
     },
     "execution_count": 11,
     "metadata": {},
     "output_type": "execute_result"
    }
   ],
   "source": [
    "remove_duplicate(input_list)"
   ]
  },
  {
   "cell_type": "code",
   "execution_count": 12,
   "id": "2765dbe7",
   "metadata": {},
   "outputs": [
    {
     "name": "stdout",
     "output_type": "stream",
     "text": [
      "real list [1, 2, 1, 3, 2, 3, 4, 3, 5]\n",
      "Unique list [1, 2, 3, 4, 5]\n"
     ]
    }
   ],
   "source": [
    "print('real list',input_list)\n",
    "print('Unique list',remove_duplicate(input_list))"
   ]
  },
  {
   "cell_type": "code",
   "execution_count": 15,
   "id": "00656184",
   "metadata": {},
   "outputs": [],
   "source": [
    "def double_elements(input_list):\n",
    "    double_list=[2*i  for i in input_list]\n",
    "    return double_list"
   ]
  },
  {
   "cell_type": "code",
   "execution_count": 16,
   "id": "4664da2a",
   "metadata": {},
   "outputs": [],
   "source": [
    "input_list=[1,2,3,4,2,3,2,7,8]"
   ]
  },
  {
   "cell_type": "code",
   "execution_count": 17,
   "id": "cf83c12a",
   "metadata": {},
   "outputs": [
    {
     "data": {
      "text/plain": [
       "[2, 4, 6, 8, 4, 6, 4, 14, 16]"
      ]
     },
     "execution_count": 17,
     "metadata": {},
     "output_type": "execute_result"
    }
   ],
   "source": [
    "double_elements(input_list)"
   ]
  },
  {
   "cell_type": "code",
   "execution_count": 19,
   "id": "5af92dfd",
   "metadata": {},
   "outputs": [
    {
     "data": {
      "text/plain": [
       "[1, 2, 3, 4, 7, 8]"
      ]
     },
     "execution_count": 19,
     "metadata": {},
     "output_type": "execute_result"
    }
   ],
   "source": [
    "remove_duplicate(input_list)"
   ]
  },
  {
   "cell_type": "code",
   "execution_count": null,
   "id": "7b2371f8",
   "metadata": {},
   "outputs": [],
   "source": []
  }
 ],
 "metadata": {
  "kernelspec": {
   "display_name": "Python 3 (ipykernel)",
   "language": "python",
   "name": "python3"
  },
  "language_info": {
   "codemirror_mode": {
    "name": "ipython",
    "version": 3
   },
   "file_extension": ".py",
   "mimetype": "text/x-python",
   "name": "python",
   "nbconvert_exporter": "python",
   "pygments_lexer": "ipython3",
   "version": "3.11.5"
  }
 },
 "nbformat": 4,
 "nbformat_minor": 5
}
