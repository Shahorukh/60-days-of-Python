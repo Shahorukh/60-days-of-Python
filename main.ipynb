{
 "cells": [
  {
   "cell_type": "code",
   "execution_count": 20,
   "id": "6ee229db",
   "metadata": {},
   "outputs": [
    {
     "name": "stdout",
     "output_type": "stream",
     "text": [
      "Hello  SRK\n"
     ]
    }
   ],
   "source": [
    "import test_module\n",
    "test_module.greet('SRK')\n"
   ]
  },
  {
   "cell_type": "code",
   "execution_count": 25,
   "id": "841ddc4a",
   "metadata": {},
   "outputs": [
    {
     "ename": "AttributeError",
     "evalue": "module 'test_module' has no attribute 'safa'",
     "output_type": "error",
     "traceback": [
      "\u001b[1;31m---------------------------------------------------------------------------\u001b[0m",
      "\u001b[1;31mAttributeError\u001b[0m                            Traceback (most recent call last)",
      "Cell \u001b[1;32mIn[25], line 1\u001b[0m\n\u001b[1;32m----> 1\u001b[0m test_module\u001b[38;5;241m.\u001b[39msafa(\u001b[38;5;124m'\u001b[39m\u001b[38;5;124mSadaia\u001b[39m\u001b[38;5;124m'\u001b[39m)\n",
      "\u001b[1;31mAttributeError\u001b[0m: module 'test_module' has no attribute 'safa'"
     ]
    }
   ],
   "source": [
    "test_module.safa('Sadaia')"
   ]
  },
  {
   "cell_type": "code",
   "execution_count": 22,
   "id": "8cb8436b",
   "metadata": {},
   "outputs": [],
   "source": [
    "from test_module import greet"
   ]
  },
  {
   "cell_type": "code",
   "execution_count": 23,
   "id": "54998ea3",
   "metadata": {},
   "outputs": [
    {
     "name": "stdout",
     "output_type": "stream",
     "text": [
      "Hello  Sadia\n"
     ]
    }
   ],
   "source": [
    "greet('Sadia')"
   ]
  },
  {
   "cell_type": "code",
   "execution_count": 19,
   "id": "2eed77f3",
   "metadata": {},
   "outputs": [
    {
     "ename": "ImportError",
     "evalue": "cannot import name 'square' from 'test_module' (C:\\Users\\User\\Python learning(60 Days)\\Day_39\\test_module.py)",
     "output_type": "error",
     "traceback": [
      "\u001b[1;31m---------------------------------------------------------------------------\u001b[0m",
      "\u001b[1;31mImportError\u001b[0m                               Traceback (most recent call last)",
      "Cell \u001b[1;32mIn[19], line 1\u001b[0m\n\u001b[1;32m----> 1\u001b[0m \u001b[38;5;28;01mfrom\u001b[39;00m \u001b[38;5;21;01mtest_module\u001b[39;00m \u001b[38;5;28;01mimport\u001b[39;00m square\n",
      "\u001b[1;31mImportError\u001b[0m: cannot import name 'square' from 'test_module' (C:\\Users\\User\\Python learning(60 Days)\\Day_39\\test_module.py)"
     ]
    }
   ],
   "source": [
    "from test_module import square"
   ]
  },
  {
   "cell_type": "code",
   "execution_count": null,
   "id": "f69e406b",
   "metadata": {},
   "outputs": [],
   "source": []
  },
  {
   "cell_type": "code",
   "execution_count": null,
   "id": "e72e4cba",
   "metadata": {},
   "outputs": [],
   "source": []
  }
 ],
 "metadata": {
  "kernelspec": {
   "display_name": "Python 3 (ipykernel)",
   "language": "python",
   "name": "python3"
  },
  "language_info": {
   "codemirror_mode": {
    "name": "ipython",
    "version": 3
   },
   "file_extension": ".py",
   "mimetype": "text/x-python",
   "name": "python",
   "nbconvert_exporter": "python",
   "pygments_lexer": "ipython3",
   "version": "3.11.5"
  }
 },
 "nbformat": 4,
 "nbformat_minor": 5
}
