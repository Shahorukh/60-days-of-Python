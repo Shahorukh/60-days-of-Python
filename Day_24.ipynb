{
 "cells": [
  {
   "cell_type": "code",
   "execution_count": 1,
   "id": "818c2d25",
   "metadata": {},
   "outputs": [],
   "source": [
    "search_word='Barcelona'\n",
    "replace_word='Bayern Munich'"
   ]
  },
  {
   "cell_type": "code",
   "execution_count": 3,
   "id": "cdc2037d",
   "metadata": {},
   "outputs": [],
   "source": [
    "with open(r'Text.txt') as file:\n",
    "    data=file.read()\n",
    "    data=data.replace(search_word,replace_word)\n",
    "    "
   ]
  },
  {
   "cell_type": "code",
   "execution_count": 5,
   "id": "82f0524f",
   "metadata": {},
   "outputs": [],
   "source": [
    "with open(r'Text.txt','w') as file:\n",
    "    file.write(data)"
   ]
  },
  {
   "cell_type": "code",
   "execution_count": 7,
   "id": "850002bc",
   "metadata": {},
   "outputs": [
    {
     "data": {
      "text/plain": [
       "'You have got to be selected by a Barcelona team'"
      ]
     },
     "execution_count": 7,
     "metadata": {},
     "output_type": "execute_result"
    }
   ],
   "source": [
    "text='You have got to be selected by a Bayern Munich team'\n",
    "import re\n",
    "re.sub(replace_word,search_word,text)"
   ]
  },
  {
   "cell_type": "code",
   "execution_count": null,
   "id": "1052a4e6",
   "metadata": {},
   "outputs": [],
   "source": []
  }
 ],
 "metadata": {
  "kernelspec": {
   "display_name": "Python 3 (ipykernel)",
   "language": "python",
   "name": "python3"
  },
  "language_info": {
   "codemirror_mode": {
    "name": "ipython",
    "version": 3
   },
   "file_extension": ".py",
   "mimetype": "text/x-python",
   "name": "python",
   "nbconvert_exporter": "python",
   "pygments_lexer": "ipython3",
   "version": "3.11.5"
  }
 },
 "nbformat": 4,
 "nbformat_minor": 5
}
