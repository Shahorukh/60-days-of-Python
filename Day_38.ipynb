{
 "cells": [
  {
   "cell_type": "markdown",
   "id": "0e455ecd",
   "metadata": {},
   "source": [
    "# map(),filter(),reduce()"
   ]
  },
  {
   "cell_type": "markdown",
   "id": "55acec7c",
   "metadata": {},
   "source": [
    "## lambda with map(),filter(),reduce()"
   ]
  },
  {
   "cell_type": "markdown",
   "id": "464524f1",
   "metadata": {},
   "source": [
    "## map(): when you want to apply a function to a fuction to each element of an iterable and get a transformed iterable as a result\n",
    "## filter(): Use filter when you want to selectively include or exclude elements from an iterable based on a conditon.\n",
    "## reduce(): use reduce when you want to successively apply a binary function to the items of an iterable reducing it to a single accumulated result"
   ]
  },
  {
   "cell_type": "code",
   "execution_count": 1,
   "id": "5adc13a8",
   "metadata": {},
   "outputs": [],
   "source": [
    "num=[1,2,3,4,5,7]"
   ]
  },
  {
   "cell_type": "code",
   "execution_count": 2,
   "id": "4b8ff448",
   "metadata": {},
   "outputs": [],
   "source": [
    "def sqr(x):\n",
    "    return x*x"
   ]
  },
  {
   "cell_type": "code",
   "execution_count": 3,
   "id": "a6e11d80",
   "metadata": {},
   "outputs": [
    {
     "data": {
      "text/plain": [
       "9"
      ]
     },
     "execution_count": 3,
     "metadata": {},
     "output_type": "execute_result"
    }
   ],
   "source": [
    "sqr(3)"
   ]
  },
  {
   "cell_type": "markdown",
   "id": "5ac408b3",
   "metadata": {},
   "source": [
    "# map(function,iterable object)"
   ]
  },
  {
   "cell_type": "code",
   "execution_count": 4,
   "id": "ec6850dd",
   "metadata": {},
   "outputs": [],
   "source": [
    "num=list(map(lambda x: x**2,num))"
   ]
  },
  {
   "cell_type": "code",
   "execution_count": 5,
   "id": "66dc3dbe",
   "metadata": {},
   "outputs": [
    {
     "data": {
      "text/plain": [
       "[1, 4, 9, 16, 25, 49]"
      ]
     },
     "execution_count": 5,
     "metadata": {},
     "output_type": "execute_result"
    }
   ],
   "source": [
    "num"
   ]
  },
  {
   "cell_type": "code",
   "execution_count": 7,
   "id": "84481064",
   "metadata": {},
   "outputs": [
    {
     "data": {
      "text/plain": [
       "[1, 64, 729, 4096, 15625, 117649]"
      ]
     },
     "execution_count": 7,
     "metadata": {},
     "output_type": "execute_result"
    }
   ],
   "source": [
    "[x**3 for x in num]"
   ]
  },
  {
   "cell_type": "markdown",
   "id": "cdb0e6d7",
   "metadata": {},
   "source": [
    "# filter(function,iterable object)"
   ]
  },
  {
   "cell_type": "code",
   "execution_count": 10,
   "id": "f8d9da78",
   "metadata": {},
   "outputs": [],
   "source": [
    "num=list(filter(lambda num:num%2==1,num))"
   ]
  },
  {
   "cell_type": "code",
   "execution_count": 11,
   "id": "2e64b36f",
   "metadata": {},
   "outputs": [
    {
     "data": {
      "text/plain": [
       "[1, 9, 25, 49]"
      ]
     },
     "execution_count": 11,
     "metadata": {},
     "output_type": "execute_result"
    }
   ],
   "source": [
    "num"
   ]
  },
  {
   "cell_type": "markdown",
   "id": "ba45006d",
   "metadata": {},
   "source": [
    "# reduce ()"
   ]
  },
  {
   "cell_type": "code",
   "execution_count": 13,
   "id": "6e904659",
   "metadata": {},
   "outputs": [
    {
     "data": {
      "text/plain": [
       "84"
      ]
     },
     "execution_count": 13,
     "metadata": {},
     "output_type": "execute_result"
    }
   ],
   "source": [
    "from functools import reduce\n",
    "reduce (lambda a,b : a+b,num)"
   ]
  },
  {
   "cell_type": "code",
   "execution_count": null,
   "id": "29677b9b",
   "metadata": {},
   "outputs": [],
   "source": []
  }
 ],
 "metadata": {
  "kernelspec": {
   "display_name": "Python 3 (ipykernel)",
   "language": "python",
   "name": "python3"
  },
  "language_info": {
   "codemirror_mode": {
    "name": "ipython",
    "version": 3
   },
   "file_extension": ".py",
   "mimetype": "text/x-python",
   "name": "python",
   "nbconvert_exporter": "python",
   "pygments_lexer": "ipython3",
   "version": "3.11.5"
  }
 },
 "nbformat": 4,
 "nbformat_minor": 5
}
