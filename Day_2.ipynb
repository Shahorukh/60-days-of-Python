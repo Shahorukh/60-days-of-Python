{
 "cells": [
  {
   "cell_type": "code",
   "execution_count": 1,
   "id": "c19d19f1",
   "metadata": {},
   "outputs": [
    {
     "data": {
      "text/plain": [
       "'Data Science'"
      ]
     },
     "execution_count": 1,
     "metadata": {},
     "output_type": "execute_result"
    }
   ],
   "source": [
    "'Data Science'"
   ]
  },
  {
   "cell_type": "code",
   "execution_count": 2,
   "id": "2b7fbc1c",
   "metadata": {},
   "outputs": [
    {
     "name": "stdout",
     "output_type": "stream",
     "text": [
      "Hello world Welcome to 60 days of python\n"
     ]
    }
   ],
   "source": [
    "print('Hello world','Welcome to 60 days of python')"
   ]
  },
  {
   "cell_type": "code",
   "execution_count": 4,
   "id": "f2f8feca",
   "metadata": {},
   "outputs": [
    {
     "name": "stdout",
     "output_type": "stream",
     "text": [
      "Hello world & Welcome to 60 days of python\n"
     ]
    }
   ],
   "source": [
    "print('Hello world','Welcome to 60 days of python',sep=' & ')"
   ]
  },
  {
   "cell_type": "code",
   "execution_count": 7,
   "id": "d9fbe747",
   "metadata": {},
   "outputs": [],
   "source": [
    "x,y,z=10,20,30"
   ]
  },
  {
   "cell_type": "code",
   "execution_count": 9,
   "id": "7dc734c4",
   "metadata": {},
   "outputs": [
    {
     "data": {
      "text/plain": [
       "10"
      ]
     },
     "execution_count": 9,
     "metadata": {},
     "output_type": "execute_result"
    }
   ],
   "source": [
    "x"
   ]
  },
  {
   "cell_type": "code",
   "execution_count": 19,
   "id": "aa0c55b8",
   "metadata": {},
   "outputs": [],
   "source": [
    "x=1000\n",
    "def func1():\n",
    "    x=500\n",
    "    print('My num is: ',x)\n",
    "    func1()"
   ]
  },
  {
   "cell_type": "code",
   "execution_count": 17,
   "id": "7ce13347",
   "metadata": {},
   "outputs": [
    {
     "name": "stdout",
     "output_type": "stream",
     "text": [
      "My num is:  1000\n"
     ]
    }
   ],
   "source": [
    "print ('My num is: ',x)"
   ]
  },
  {
   "cell_type": "code",
   "execution_count": null,
   "id": "dccd6049",
   "metadata": {},
   "outputs": [],
   "source": []
  }
 ],
 "metadata": {
  "kernelspec": {
   "display_name": "Python 3 (ipykernel)",
   "language": "python",
   "name": "python3"
  },
  "language_info": {
   "codemirror_mode": {
    "name": "ipython",
    "version": 3
   },
   "file_extension": ".py",
   "mimetype": "text/x-python",
   "name": "python",
   "nbconvert_exporter": "python",
   "pygments_lexer": "ipython3",
   "version": "3.11.5"
  }
 },
 "nbformat": 4,
 "nbformat_minor": 5
}
