{
 "cells": [
  {
   "cell_type": "markdown",
   "id": "f362cfa6",
   "metadata": {},
   "source": [
    "# Arguments vs Parameters"
   ]
  },
  {
   "cell_type": "markdown",
   "id": "0be7d5d8",
   "metadata": {},
   "source": [
    "## (1) Positional Arguments"
   ]
  },
  {
   "cell_type": "code",
   "execution_count": 3,
   "id": "81591fff",
   "metadata": {},
   "outputs": [],
   "source": [
    "def add (x,y):\n",
    "    result=x+y\n",
    "    return result\n"
   ]
  },
  {
   "cell_type": "code",
   "execution_count": 4,
   "id": "ec80dbf7",
   "metadata": {},
   "outputs": [
    {
     "data": {
      "text/plain": [
       "30"
      ]
     },
     "execution_count": 4,
     "metadata": {},
     "output_type": "execute_result"
    }
   ],
   "source": [
    "add(10,20)"
   ]
  },
  {
   "cell_type": "markdown",
   "id": "bb09b675",
   "metadata": {},
   "source": [
    "## (2) Keyword argument"
   ]
  },
  {
   "cell_type": "code",
   "execution_count": 5,
   "id": "54a25444",
   "metadata": {},
   "outputs": [],
   "source": [
    "def personal(job,income):\n",
    "    print('job=',job)\n",
    "    print(income)"
   ]
  },
  {
   "cell_type": "code",
   "execution_count": 6,
   "id": "87e136c3",
   "metadata": {},
   "outputs": [
    {
     "name": "stdout",
     "output_type": "stream",
     "text": [
      "job= 200000\n",
      "Data Scientist\n"
     ]
    }
   ],
   "source": [
    "personal(200000,'Data Scientist')"
   ]
  },
  {
   "cell_type": "markdown",
   "id": "86ace810",
   "metadata": {},
   "source": [
    "## The solution of above case function is keyword argument"
   ]
  },
  {
   "cell_type": "code",
   "execution_count": 9,
   "id": "f6dc6b7e",
   "metadata": {},
   "outputs": [],
   "source": [
    "def personal(job,income):\n",
    "    print('job=',job)\n",
    "    print(income)"
   ]
  },
  {
   "cell_type": "code",
   "execution_count": 10,
   "id": "f2cbfeb9",
   "metadata": {},
   "outputs": [
    {
     "name": "stdout",
     "output_type": "stream",
     "text": [
      "job= Data Scientist\n",
      "200000\n"
     ]
    }
   ],
   "source": [
    "personal(job='Data Scientist',income=200000)"
   ]
  },
  {
   "cell_type": "code",
   "execution_count": 11,
   "id": "0b150c8a",
   "metadata": {},
   "outputs": [
    {
     "name": "stdout",
     "output_type": "stream",
     "text": [
      "job= Data Scientist\n",
      "200000\n"
     ]
    }
   ],
   "source": [
    "personal(income=200000,job='Data Scientist')"
   ]
  },
  {
   "cell_type": "markdown",
   "id": "65c1c337",
   "metadata": {},
   "source": [
    "## (3) Default Argument"
   ]
  },
  {
   "cell_type": "code",
   "execution_count": 12,
   "id": "c75c2733",
   "metadata": {},
   "outputs": [],
   "source": [
    "def personal(job,income=100000):\n",
    "    print('job=',job)\n",
    "    print(income)"
   ]
  },
  {
   "cell_type": "code",
   "execution_count": 13,
   "id": "ff782265",
   "metadata": {},
   "outputs": [
    {
     "name": "stdout",
     "output_type": "stream",
     "text": [
      "job= Data Scientist\n",
      "200000\n"
     ]
    }
   ],
   "source": [
    "personal('Data Scientist',200000)"
   ]
  },
  {
   "cell_type": "markdown",
   "id": "4b226ff0",
   "metadata": {},
   "source": [
    "## (4) Variable length argument"
   ]
  },
  {
   "cell_type": "code",
   "execution_count": 14,
   "id": "53378c71",
   "metadata": {},
   "outputs": [],
   "source": [
    "def add_num(*x):\n",
    "    print(x)\n",
    "    result=sum(x)\n",
    "    return result"
   ]
  },
  {
   "cell_type": "code",
   "execution_count": 15,
   "id": "aba4567f",
   "metadata": {},
   "outputs": [
    {
     "name": "stdout",
     "output_type": "stream",
     "text": [
      "(10, 30, 10, 1000, 4000)\n"
     ]
    },
    {
     "data": {
      "text/plain": [
       "5050"
      ]
     },
     "execution_count": 15,
     "metadata": {},
     "output_type": "execute_result"
    }
   ],
   "source": [
    "add_num(10,30,10,1000,4000)"
   ]
  },
  {
   "cell_type": "code",
   "execution_count": 32,
   "id": "1f6b1acc",
   "metadata": {},
   "outputs": [],
   "source": [
    "def add_num(x,*y):\n",
    "    print(x)\n",
    "    print(*y)\n",
    "    result=sum(y)+x\n",
    "    return result"
   ]
  },
  {
   "cell_type": "code",
   "execution_count": 33,
   "id": "ba5fe89c",
   "metadata": {},
   "outputs": [
    {
     "name": "stdout",
     "output_type": "stream",
     "text": [
      "10\n",
      "30 10 1000 4000\n"
     ]
    },
    {
     "data": {
      "text/plain": [
       "5050"
      ]
     },
     "execution_count": 33,
     "metadata": {},
     "output_type": "execute_result"
    }
   ],
   "source": [
    "add_num(10,30,10,1000,4000)"
   ]
  }
 ],
 "metadata": {
  "kernelspec": {
   "display_name": "Python 3 (ipykernel)",
   "language": "python",
   "name": "python3"
  },
  "language_info": {
   "codemirror_mode": {
    "name": "ipython",
    "version": 3
   },
   "file_extension": ".py",
   "mimetype": "text/x-python",
   "name": "python",
   "nbconvert_exporter": "python",
   "pygments_lexer": "ipython3",
   "version": "3.11.5"
  }
 },
 "nbformat": 4,
 "nbformat_minor": 5
}
