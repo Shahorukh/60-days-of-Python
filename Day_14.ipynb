{
 "cells": [
  {
   "cell_type": "code",
   "execution_count": 2,
   "id": "853958b3",
   "metadata": {},
   "outputs": [],
   "source": [
    "list1=[]\n",
    "for x in range(10):\n",
    "    list1.append(x)"
   ]
  },
  {
   "cell_type": "code",
   "execution_count": 3,
   "id": "641c296f",
   "metadata": {},
   "outputs": [
    {
     "data": {
      "text/plain": [
       "[0, 1, 2, 3, 4, 5, 6, 7, 8, 9]"
      ]
     },
     "execution_count": 3,
     "metadata": {},
     "output_type": "execute_result"
    }
   ],
   "source": [
    "list1"
   ]
  },
  {
   "cell_type": "markdown",
   "id": "f934cbd3",
   "metadata": {},
   "source": [
    "# List Comprehension"
   ]
  },
  {
   "cell_type": "code",
   "execution_count": 4,
   "id": "555683fe",
   "metadata": {},
   "outputs": [],
   "source": [
    "list2=[x for x in range (10)]"
   ]
  },
  {
   "cell_type": "code",
   "execution_count": 5,
   "id": "42d5e266",
   "metadata": {},
   "outputs": [
    {
     "data": {
      "text/plain": [
       "[0, 1, 2, 3, 4, 5, 6, 7, 8, 9]"
      ]
     },
     "execution_count": 5,
     "metadata": {},
     "output_type": "execute_result"
    }
   ],
   "source": [
    "list2"
   ]
  },
  {
   "cell_type": "code",
   "execution_count": 6,
   "id": "69955973",
   "metadata": {},
   "outputs": [],
   "source": [
    "list3=[]\n",
    "for x in range(10):\n",
    "    if x%2==0:\n",
    "        list3.append(x)\n",
    "    "
   ]
  },
  {
   "cell_type": "code",
   "execution_count": 7,
   "id": "9e06516d",
   "metadata": {},
   "outputs": [
    {
     "data": {
      "text/plain": [
       "[0, 2, 4, 6, 8]"
      ]
     },
     "execution_count": 7,
     "metadata": {},
     "output_type": "execute_result"
    }
   ],
   "source": [
    "list3"
   ]
  },
  {
   "cell_type": "code",
   "execution_count": 8,
   "id": "a3ab34c1",
   "metadata": {},
   "outputs": [],
   "source": [
    "list3=[x for x in range(10) if x%2==0]"
   ]
  },
  {
   "cell_type": "code",
   "execution_count": 9,
   "id": "eedecb47",
   "metadata": {},
   "outputs": [
    {
     "data": {
      "text/plain": [
       "[0, 2, 4, 6, 8]"
      ]
     },
     "execution_count": 9,
     "metadata": {},
     "output_type": "execute_result"
    }
   ],
   "source": [
    "list3"
   ]
  },
  {
   "cell_type": "code",
   "execution_count": 10,
   "id": "16b91a4f",
   "metadata": {},
   "outputs": [],
   "source": [
    "list4=[]\n",
    "for x in range(10):\n",
    "    if x%2==1:\n",
    "        list4.append(x)"
   ]
  },
  {
   "cell_type": "code",
   "execution_count": 11,
   "id": "9b12285c",
   "metadata": {},
   "outputs": [
    {
     "data": {
      "text/plain": [
       "[1, 3, 5, 7, 9]"
      ]
     },
     "execution_count": 11,
     "metadata": {},
     "output_type": "execute_result"
    }
   ],
   "source": [
    "list4"
   ]
  },
  {
   "cell_type": "code",
   "execution_count": 12,
   "id": "ebf9cd73",
   "metadata": {},
   "outputs": [],
   "source": [
    "lst4=[x for x in range(10) if x%2==1]"
   ]
  },
  {
   "cell_type": "code",
   "execution_count": 13,
   "id": "776344d3",
   "metadata": {},
   "outputs": [
    {
     "data": {
      "text/plain": [
       "[1, 3, 5, 7, 9]"
      ]
     },
     "execution_count": 13,
     "metadata": {},
     "output_type": "execute_result"
    }
   ],
   "source": [
    "lst4"
   ]
  },
  {
   "cell_type": "code",
   "execution_count": 14,
   "id": "8d9e46ce",
   "metadata": {},
   "outputs": [],
   "source": [
    "list5=['ai','ds',1,2,5,6,9]"
   ]
  },
  {
   "cell_type": "code",
   "execution_count": 15,
   "id": "d41198ee",
   "metadata": {},
   "outputs": [],
   "source": [
    "list6=[x for x in list5]"
   ]
  },
  {
   "cell_type": "code",
   "execution_count": 16,
   "id": "a52b1804",
   "metadata": {},
   "outputs": [
    {
     "data": {
      "text/plain": [
       "['ai', 'ds', 1, 2, 5, 6, 9]"
      ]
     },
     "execution_count": 16,
     "metadata": {},
     "output_type": "execute_result"
    }
   ],
   "source": [
    "list6"
   ]
  },
  {
   "cell_type": "code",
   "execution_count": 17,
   "id": "e472eb04",
   "metadata": {},
   "outputs": [],
   "source": [
    "list6=[x for x in list5 if x!='ai']"
   ]
  },
  {
   "cell_type": "code",
   "execution_count": 18,
   "id": "ee015ca3",
   "metadata": {},
   "outputs": [
    {
     "data": {
      "text/plain": [
       "['ds', 1, 2, 5, 6, 9]"
      ]
     },
     "execution_count": 18,
     "metadata": {},
     "output_type": "execute_result"
    }
   ],
   "source": [
    "list6"
   ]
  },
  {
   "cell_type": "code",
   "execution_count": 19,
   "id": "460ab9de",
   "metadata": {},
   "outputs": [],
   "source": [
    "list7=[3**x for x in range(10)]"
   ]
  },
  {
   "cell_type": "code",
   "execution_count": 20,
   "id": "2b22b3ba",
   "metadata": {},
   "outputs": [
    {
     "data": {
      "text/plain": [
       "[1, 3, 9, 27, 81, 243, 729, 2187, 6561, 19683]"
      ]
     },
     "execution_count": 20,
     "metadata": {},
     "output_type": "execute_result"
    }
   ],
   "source": [
    "list7"
   ]
  },
  {
   "cell_type": "markdown",
   "id": "a7bf36ac",
   "metadata": {},
   "source": [
    "# list membership testing"
   ]
  },
  {
   "cell_type": "code",
   "execution_count": 21,
   "id": "a2493814",
   "metadata": {},
   "outputs": [
    {
     "data": {
      "text/plain": [
       "True"
      ]
     },
     "execution_count": 21,
     "metadata": {},
     "output_type": "execute_result"
    }
   ],
   "source": [
    "9 in list7"
   ]
  },
  {
   "cell_type": "code",
   "execution_count": 22,
   "id": "4c92bc6d",
   "metadata": {},
   "outputs": [
    {
     "data": {
      "text/plain": [
       "False"
      ]
     },
     "execution_count": 22,
     "metadata": {},
     "output_type": "execute_result"
    }
   ],
   "source": [
    "10 in list7"
   ]
  },
  {
   "cell_type": "code",
   "execution_count": null,
   "id": "05313300",
   "metadata": {},
   "outputs": [],
   "source": []
  }
 ],
 "metadata": {
  "kernelspec": {
   "display_name": "Python 3 (ipykernel)",
   "language": "python",
   "name": "python3"
  },
  "language_info": {
   "codemirror_mode": {
    "name": "ipython",
    "version": 3
   },
   "file_extension": ".py",
   "mimetype": "text/x-python",
   "name": "python",
   "nbconvert_exporter": "python",
   "pygments_lexer": "ipython3",
   "version": "3.11.5"
  }
 },
 "nbformat": 4,
 "nbformat_minor": 5
}
